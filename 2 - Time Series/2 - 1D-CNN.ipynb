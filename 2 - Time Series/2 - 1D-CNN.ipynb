{
 "cells": [
  {
   "cell_type": "code",
   "execution_count": 119,
   "id": "8d55b002-9943-443f-bb3a-1f8588a61547",
   "metadata": {},
   "outputs": [],
   "source": [
    "import numpy as np\n",
    "import torch\n",
    "import torchvision\n",
    "from torch import nn\n",
    "from torch.nn import functional as F\n",
    "from torch.utils.data import Dataset\n",
    "from torch.utils.data import DataLoader, random_split\n",
    "import lightning as L\n",
    "import neptune.new as neptune\n",
    "from torchmetrics import Precision\n",
    "import os\n",
    "import pandas as pd\n",
    "from lightning.pytorch.callbacks import TQDMProgressBar\n",
    "import math\n",
    "import matplotlib.pyplot as plt\n",
    "import seaborn as sns"
   ]
  },
  {
   "cell_type": "markdown",
   "id": "86ed13e3-b61c-4b6d-94f7-c3e363a58ac6",
   "metadata": {},
   "source": [
    "# Dataset"
   ]
  },
  {
   "cell_type": "code",
   "execution_count": 2,
   "id": "e9d96ac2-1ffb-4cff-bd8b-b3419e9fccde",
   "metadata": {},
   "outputs": [],
   "source": [
    "def norm(data):\n",
    "    return (data - data.min()) / (data.max() - data.min())"
   ]
  },
  {
   "cell_type": "code",
   "execution_count": 3,
   "id": "9113fbda-8a3c-448d-a104-cef8cf8dd783",
   "metadata": {},
   "outputs": [],
   "source": [
    "from sklearn.preprocessing import LabelEncoder\n",
    "\n",
    "train_dir = './train'\n",
    "\n",
    "path = f'{train_dir}/tdcsfog'\n",
    "files = [os.path.join(path, f) for f in os.listdir(path) if f.endswith('.csv')]\n",
    "tdcsfog_df = pd.concat([pd.read_csv(f).assign(Id=f.split('/')[-1].split('.')[0]) for f in files])\n",
    "tdcsfog_df.index=range(len(tdcsfog_df))\n",
    "\n",
    "path = f'{train_dir}/defog'\n",
    "files = [os.path.join(path, f) for f in os.listdir(path) if f.endswith('.csv')]\n",
    "defog_df = pd.concat([pd.read_csv(f).assign(Id=f.split('/')[-1].split('.')[0]) for f in files])\n",
    "defog_df.index=range(len(defog_df))\n",
    "# normalize \n",
    "defog_df['AccV']=defog_df['AccV']/9.8\n",
    "defog_df['AccML']=defog_df['AccML']/9.8\n",
    "defog_df['AccAP']=defog_df['AccAP']/9.8\n",
    "\n",
    "defog_df['AccV']=norm(defog_df['AccV'])\n",
    "defog_df['AccML']=norm(defog_df['AccML'])\n",
    "defog_df['AccAP']=norm(defog_df['AccAP'])\n",
    "\n",
    "tdcsfog_df['AccV']=norm(tdcsfog_df['AccV'])\n",
    "tdcsfog_df['AccML']=norm(tdcsfog_df['AccML'])\n",
    "tdcsfog_df['AccAP']=norm(tdcsfog_df['AccAP'])\n",
    "\n",
    "\n",
    "df = pd.concat([tdcsfog_df,defog_df])\n",
    "\n",
    "tdcsfog_metadata = pd.read_csv(f'./tdcsfog_metadata.csv')\n",
    "defog_metadata = pd.read_csv(f'./defog_metadata.csv')\n",
    "metadata= pd.concat([tdcsfog_metadata,defog_metadata])\n",
    "df = df.merge(metadata, on='Id', how='inner')\n",
    "encoder = LabelEncoder()\n",
    "df['Id']=encoder.fit_transform(df['Id'])"
   ]
  },
  {
   "cell_type": "code",
   "execution_count": 4,
   "id": "d5ef02da-9345-479c-8fe8-d7ad7a624057",
   "metadata": {},
   "outputs": [],
   "source": [
    "def get_idx_of_lables(df):\n",
    "    any_ones = df[['StartHesitation', 'Turn', 'Walking']].eq(1).any(axis=1)\n",
    "    idx_with_ones = df[any_ones].index\n",
    "    return idx_with_ones\n",
    "\n",
    "def wind(df, window):\n",
    "    lable_indexes = list(get_idx_of_lables(df))\n",
    "    times = np.array(df['Time'])\n",
    "\n",
    "    lable_indexes = np.array(lable_indexes)\n",
    "    mask = np.where(lable_indexes[1:] - lable_indexes[:-1] != 1)[0]\n",
    "\n",
    "    start_segments = lable_indexes[np.concatenate((np.array([0]), mask + 1))]\n",
    "    end_segments = lable_indexes[np.concatenate((mask, np.array([len(lable_indexes) - 1])))]\n",
    "\n",
    "    res = []\n",
    "\n",
    "    for start, end in zip(start_segments, end_segments):\n",
    "        res.extend(times[max(0, start - window // 2):start])\n",
    "        res.extend(lable_indexes[start:end+1])\n",
    "        res.extend(times[end:min(len(times)-1, end + window // 4)])\n",
    "\n",
    "    return res\n",
    "\n",
    "def window(df, window_size):\n",
    "    win_has_label_idx = wind(df, window_size)\n",
    "    return df.iloc[win_has_label_idx]\n",
    "\n",
    "windowed_df = pd.concat([window(tdcsfog_df,256),window(defog_df,200)])\n",
    "tdcsfog_metadata = pd.read_csv(f'./tdcsfog_metadata.csv')\n",
    "defog_metadata = pd.read_csv(f'./defog_metadata.csv')\n",
    "metadata= pd.concat([tdcsfog_metadata,defog_metadata])\n",
    "windowed_df = windowed_df.merge(metadata, on='Id', how='inner')\n",
    "encoder = LabelEncoder()\n",
    "windowed_df['Id']=encoder.fit_transform(windowed_df['Id'])"
   ]
  },
  {
   "cell_type": "code",
   "execution_count": 5,
   "id": "be9288b8-d512-499e-99a3-5ef85c6d3d9c",
   "metadata": {},
   "outputs": [],
   "source": [
    "def tensor_to_num(y):\n",
    "\n",
    "    for i in range(3):\n",
    "        if y[i]==1:\n",
    "            return torch.tensor(i+1,dtype=torch.float).cuda()\n",
    "    return torch.tensor(i+1,dtype=torch.float).cuda()\n",
    "\n",
    "def num_to_tensor(y):\n",
    "    for i in range(4):\n",
    "        if y==i:\n",
    "            res= torch.zeros(3).cuda()\n",
    "            if i!=0:\n",
    "                res[i-1]=1\n",
    "            return res\n",
    "def add_to_tensor(y):\n",
    "    if torch.all(y == 0):\n",
    "        return torch.cat((torch.tensor([1]).cuda(), y), dim=0).cuda()\n",
    "    else:\n",
    "        return torch.cat((torch.tensor([0]).cuda(), y), dim=0).cuda()"
   ]
  },
  {
   "cell_type": "code",
   "execution_count": 6,
   "id": "b467fc1d-5d2e-4d02-826f-82c9465ab836",
   "metadata": {},
   "outputs": [],
   "source": [
    "class DS(Dataset):\n",
    "    def __init__(self, df, labels,seq_len=1):\n",
    "        self.df=df\n",
    "        self.labels = labels\n",
    "        self.seq_len=seq_len\n",
    "        # self.chunks = dataframe_chunks(df, seq_len)\n",
    "        \n",
    "    def __len__(self):\n",
    "        return len(self.df)\n",
    "\n",
    "    def __getitem__(self, idx):\n",
    "        self.device = \"cuda\" if torch.cuda.is_available() else \"cpu\"        \n",
    "        record = self.df.iloc[idx]\n",
    "        x = torch.Tensor(record[['AccV', 'AccML', 'AccAP']]).view(3, 1).to(self.device)\n",
    "        # x = torch.transpose(x, 0, 1).to(self.device)\n",
    "        y = x = torch.Tensor(record[self.labels]).view(3, 1).to(self.device).to(self.device)\n",
    "        # y =torch.transpose(y, 0, 1).to(self.device)\n",
    "        y=torch.any(y != 0, dim=1).float().to(self.device)\n",
    "        return x, add_to_tensor(y)\n"
   ]
  },
  {
   "cell_type": "markdown",
   "id": "92882d38-a086-48ca-975b-9463e6ae818c",
   "metadata": {
    "tags": []
   },
   "source": [
    "# train test split"
   ]
  },
  {
   "cell_type": "code",
   "execution_count": 8,
   "id": "6bee0435-6834-4dc0-82ea-2ec2f3d71f10",
   "metadata": {},
   "outputs": [
    {
     "data": {
      "text/plain": [
       "(0.7734778718331602, 0.22652212816683975)"
      ]
     },
     "execution_count": 8,
     "metadata": {},
     "output_type": "execute_result"
    }
   ],
   "source": [
    "from sklearn.model_selection import GroupShuffleSplit\n",
    "from torch.utils.data import Subset\n",
    "\n",
    "\n",
    "X = windowed_df.drop(['AccV', 'AccML', 'AccAP'], axis=1)\n",
    "y = windowed_df[['AccV', 'AccML', 'AccAP']]\n",
    "\n",
    "gss = GroupShuffleSplit(n_splits=1, test_size=0.3, random_state=42)\n",
    "\n",
    "train_idx, val_idx = next(gss.split(X, y, windowed_df['Subject']))\n",
    "train_df,val_df =windowed_df.iloc[train_idx],df.iloc[val_idx]\n",
    "\n",
    "train_ds = DS(train_df,['StartHesitation','Turn','Walking'])\n",
    "validation_ds = DS(val_df,['StartHesitation','Turn','Walking'])\n",
    "\n",
    "len(train_df)/len(windowed_df),len(val_df)/len(windowed_df)"
   ]
  },
  {
   "cell_type": "markdown",
   "id": "458be392-d063-462f-96cc-aa00e0b56acf",
   "metadata": {
    "tags": []
   },
   "source": [
    "# Model "
   ]
  },
  {
   "cell_type": "code",
   "execution_count": 73,
   "id": "8cc3dbad-7040-48ca-a5cf-d82a7a95559e",
   "metadata": {},
   "outputs": [],
   "source": [
    "def train_model(model,tags,epochs,batch_size,lr):\n",
    "    trainer = L.Trainer(\n",
    "        callbacks=[TQDMProgressBar(refresh_rate=100)],\n",
    "        accelerator='auto',\n",
    "        max_epochs=epochs,\n",
    "        devices=1,\n",
    "    )\n",
    "    run = neptune.init_run(\n",
    "        project=\"harelmx/deep-hw2\",\n",
    "        api_token=\"eyJhcGlfYWRkcmVzcyI6Imh0dHBzOi8vYXBwLm5lcHR1bmUuYWkiLCJhcGlfdXJsIjoiaHR0cHM6Ly9hcHAubmVwdHVuZS5haSIsImFwaV9rZXkiOiI5ZDUzNTU3NC0xMzczLTQ4NGQtYTVhOS1jZGJmNzQ3MTA3ZjIifQ==\",\n",
    "    )  \n",
    "    run[\"sys/tags\"].add(tags)\n",
    "    run[\"config/lr\"]=lr\n",
    "    run[\"config/epochs\"]=trainer.max_epochs\n",
    "    run[\"config/batch_size\"]=batch_size\n",
    "    model.run=run\n",
    "    model.lr=lr\n",
    "    trainer.fit(model,model.train_loader,model.val_loader)\n"
   ]
  },
  {
   "cell_type": "code",
   "execution_count": 70,
   "id": "48af2ae8-dcaa-4fc7-9596-a4484d0428c4",
   "metadata": {},
   "outputs": [],
   "source": [
    "class OneDimConvModel(L.LightningModule):\n",
    "    def __init__(self, train_loader, val_loader, seq_len, num_classes=4, neptune_run=None) -> None:\n",
    "        super().__init__()\n",
    "        # self.save_hyperparameters()\n",
    "        self.train_loader = train_loader\n",
    "        self.val_loader = val_loader\n",
    "        self.run = neptune_run\n",
    "        self.num_classes = num_classes\n",
    "        \n",
    "        self.conv1 = nn.Conv1d(3, 16, 3, stride=1, padding=1)\n",
    "        self.bn1 = nn.BatchNorm1d(16)\n",
    "        self.conv2 = nn.Conv1d(16, 32, 3, stride=1, padding=1)\n",
    "        self.bn2 = nn.BatchNorm1d(32)\n",
    "        self.conv3 = nn.Conv1d(32, 64, 3, stride=1, padding=1)\n",
    "        self.bn3 = nn.BatchNorm1d(64)\n",
    "        self.fc1 = nn.Linear(64 * seq_len, 128)\n",
    "        self.fc2 = nn.Linear(128, num_classes)\n",
    "        self.dropout = nn.Dropout(0.5)\n",
    "\n",
    "    def forward(self, x):\n",
    "        x = F.relu(self.bn1(self.conv1(x)))\n",
    "        x = F.relu(self.bn2(self.conv2(x)))\n",
    "        x = F.relu(self.bn3(self.conv3(x)))\n",
    "        x = x.view(x.size(0), -1)\n",
    "        x = F.relu(self.fc1(x))\n",
    "        x = self.dropout(x)\n",
    "        x = self.fc2(x)\n",
    "        return F.log_softmax(x, dim=1)\n",
    "\n",
    "    def training_step(self, batch, batch_idx):\n",
    "        return self.run_this_shit(batch, batch_idx,'train')\n",
    "\n",
    "    def validation_step(self, batch, batch_idx):\n",
    "        return self.run_this_shit(batch, batch_idx,'validation')\n",
    "    \n",
    "    def run_this_shit(self, batch, batch_idx,call_from):\n",
    "        X, y = batch\n",
    "        y_hat = self(X)\n",
    "        loss = F.cross_entropy(y_hat, y)\n",
    "        if self.run:\n",
    "            self.run[f'{call_from}/loss'].append(loss.item())\n",
    "        \n",
    "        return loss\n",
    "\n",
    "    def train_dataloader(self):\n",
    "        return self.train_loader\n",
    "\n",
    "    def val_dataloader(self):\n",
    "        return self.val_loader\n",
    "    \n",
    "    def configure_optimizers(self):\n",
    "        return torch.optim.Adam(self.parameters(), lr=self.lr)\n"
   ]
  },
  {
   "cell_type": "markdown",
   "id": "d328473d-1fe2-4d80-b5b2-388f58fdba92",
   "metadata": {
    "jp-MarkdownHeadingCollapsed": true,
    "tags": []
   },
   "source": [
    "# training"
   ]
  },
  {
   "cell_type": "code",
   "execution_count": 38,
   "id": "1687db5a-f139-4bd7-9c99-e85c56156407",
   "metadata": {},
   "outputs": [
    {
     "name": "stderr",
     "output_type": "stream",
     "text": [
      "/home/moshayof/.conda/envs/harel/lib/python3.9/site-packages/lightning/fabric/plugins/environments/slurm.py:165: PossibleUserWarning: The `srun` command is available on your system but is not used. HINT: If your intention is to run Lightning on SLURM, prepend your python command with `srun` like so: srun python /home/moshayof/.conda/envs/harel/lib/python3.9/site- ...\n",
      "  rank_zero_warn(\n",
      "GPU available: True (cuda), used: True\n",
      "TPU available: False, using: 0 TPU cores\n",
      "IPU available: False, using: 0 IPUs\n",
      "HPU available: False, using: 0 HPUs\n"
     ]
    },
    {
     "name": "stdout",
     "output_type": "stream",
     "text": [
      "https://app.neptune.ai/harelmx/deep-hw2/e/DEEP2-155\n"
     ]
    },
    {
     "name": "stderr",
     "output_type": "stream",
     "text": [
      "LOCAL_RANK: 0 - CUDA_VISIBLE_DEVICES: [0]\n",
      "\n",
      "  | Name    | Type        | Params\n",
      "----------------------------------------\n",
      "0 | conv1   | Conv1d      | 160   \n",
      "1 | bn1     | BatchNorm1d | 32    \n",
      "2 | conv2   | Conv1d      | 1.6 K \n",
      "3 | bn2     | BatchNorm1d | 64    \n",
      "4 | conv3   | Conv1d      | 6.2 K \n",
      "5 | bn3     | BatchNorm1d | 128   \n",
      "6 | fc1     | Linear      | 8.3 K \n",
      "7 | fc2     | Linear      | 516   \n",
      "8 | dropout | Dropout     | 0     \n",
      "----------------------------------------\n",
      "17.0 K    Trainable params\n",
      "0         Non-trainable params\n",
      "17.0 K    Total params\n",
      "0.068     Total estimated model params size (MB)\n"
     ]
    },
    {
     "name": "stdout",
     "output_type": "stream",
     "text": [
      "Sanity Checking: 0it [00:00, ?it/s]"
     ]
    },
    {
     "name": "stderr",
     "output_type": "stream",
     "text": [
      "/home/moshayof/.conda/envs/harel/lib/python3.9/site-packages/lightning/pytorch/trainer/connectors/data_connector.py:430: PossibleUserWarning: The dataloader, val_dataloader, does not have many workers which may be a bottleneck. Consider increasing the value of the `num_workers` argument` (try 12 which is the number of cpus on this machine) in the `DataLoader` init to improve performance.\n",
      "  rank_zero_warn(\n"
     ]
    },
    {
     "name": "stdout",
     "output_type": "stream",
     "text": [
      "                                                                           "
     ]
    },
    {
     "name": "stderr",
     "output_type": "stream",
     "text": [
      "/home/moshayof/.conda/envs/harel/lib/python3.9/site-packages/lightning/pytorch/trainer/connectors/data_connector.py:430: PossibleUserWarning: The dataloader, train_dataloader, does not have many workers which may be a bottleneck. Consider increasing the value of the `num_workers` argument` (try 12 which is the number of cpus on this machine) in the `DataLoader` init to improve performance.\n",
      "  rank_zero_warn(\n"
     ]
    },
    {
     "name": "stdout",
     "output_type": "stream",
     "text": [
      "Epoch 0: 100%|██████████| 6220/6220 [18:38<00:00,  5.56it/s, v_num=22]\n",
      "Validation: 0it [00:00, ?it/s]\u001b[A\n",
      "Validation:   0%|          | 0/1822 [00:00<?, ?it/s]\u001b[A\n",
      "Validation DataLoader 0:   0%|          | 0/1822 [00:00<?, ?it/s]\u001b[A\n",
      "Validation DataLoader 0:   5%|▌         | 100/1822 [00:17<05:04,  5.66it/s]\u001b[A\n",
      "Validation DataLoader 0:  11%|█         | 200/1822 [00:35<04:47,  5.65it/s]\u001b[A\n",
      "Validation DataLoader 0:  16%|█▋        | 300/1822 [00:52<04:27,  5.69it/s]\u001b[A\n",
      "Validation DataLoader 0:  22%|██▏       | 400/1822 [01:10<04:10,  5.67it/s]\u001b[A\n",
      "Validation DataLoader 0:  27%|██▋       | 500/1822 [01:28<03:53,  5.67it/s]\u001b[A\n",
      "Validation DataLoader 0:  33%|███▎      | 600/1822 [01:45<03:35,  5.68it/s]\u001b[A\n",
      "Validation DataLoader 0:  38%|███▊      | 700/1822 [02:03<03:18,  5.66it/s]\u001b[A\n",
      "Validation DataLoader 0:  44%|████▍     | 800/1822 [02:21<03:00,  5.67it/s]\u001b[A\n",
      "Validation DataLoader 0:  49%|████▉     | 900/1822 [02:39<02:42,  5.66it/s]\u001b[A\n",
      "Validation DataLoader 0:  55%|█████▍    | 1000/1822 [02:56<02:25,  5.66it/s]\u001b[A\n",
      "Validation DataLoader 0:  60%|██████    | 1100/1822 [03:14<02:07,  5.65it/s]\u001b[A\n",
      "Validation DataLoader 0:  66%|██████▌   | 1200/1822 [03:33<01:50,  5.63it/s]\u001b[A\n",
      "Validation DataLoader 0:  71%|███████▏  | 1300/1822 [03:50<01:32,  5.65it/s]\u001b[A\n",
      "Validation DataLoader 0:  77%|███████▋  | 1400/1822 [04:08<01:14,  5.63it/s]\u001b[A\n",
      "Validation DataLoader 0:  82%|████████▏ | 1500/1822 [04:25<00:57,  5.65it/s]\u001b[A\n",
      "Validation DataLoader 0:  88%|████████▊ | 1600/1822 [04:43<00:39,  5.65it/s]\u001b[A\n",
      "Validation DataLoader 0:  93%|█████████▎| 1700/1822 [05:00<00:21,  5.65it/s]\u001b[A\n",
      "Validation DataLoader 0:  99%|█████████▉| 1800/1822 [05:18<00:03,  5.66it/s]\u001b[A\n",
      "Epoch 0: 100%|██████████| 6220/6220 [24:00<00:00,  4.32it/s, v_num=22]6it/s]\u001b[A\n",
      "Epoch 1: 100%|██████████| 6220/6220 [18:35<00:00,  5.58it/s, v_num=22]      \u001b[A\n",
      "Validation: 0it [00:00, ?it/s]\u001b[A\n",
      "Validation:   0%|          | 0/1822 [00:00<?, ?it/s]\u001b[A\n",
      "Validation DataLoader 0:   0%|          | 0/1822 [00:00<?, ?it/s]\u001b[A\n",
      "Validation DataLoader 0:   5%|▌         | 100/1822 [00:17<04:59,  5.76it/s]\u001b[A\n",
      "Validation DataLoader 0:  11%|█         | 200/1822 [00:35<04:49,  5.60it/s]\u001b[A\n",
      "Validation DataLoader 0:  16%|█▋        | 300/1822 [00:53<04:28,  5.66it/s]\u001b[A\n",
      "Validation DataLoader 0:  22%|██▏       | 400/1822 [01:11<04:12,  5.63it/s]\u001b[A\n",
      "Validation DataLoader 0:  27%|██▋       | 500/1822 [01:28<03:53,  5.65it/s]\u001b[A\n",
      "Validation DataLoader 0:  33%|███▎      | 600/1822 [01:46<03:37,  5.63it/s]\u001b[A\n",
      "Validation DataLoader 0:  38%|███▊      | 700/1822 [02:04<03:19,  5.61it/s]\u001b[A\n",
      "Validation DataLoader 0:  44%|████▍     | 800/1822 [02:22<03:01,  5.62it/s]\u001b[A\n",
      "Validation DataLoader 0:  49%|████▉     | 900/1822 [02:40<02:44,  5.60it/s]\u001b[A\n",
      "Validation DataLoader 0:  55%|█████▍    | 1000/1822 [02:58<02:26,  5.62it/s]\u001b[A\n",
      "Validation DataLoader 0:  60%|██████    | 1100/1822 [03:15<02:08,  5.62it/s]\u001b[A\n",
      "Validation DataLoader 0:  66%|██████▌   | 1200/1822 [03:33<01:50,  5.63it/s]\u001b[A\n",
      "Validation DataLoader 0:  71%|███████▏  | 1300/1822 [03:50<01:32,  5.64it/s]\u001b[A\n",
      "Validation DataLoader 0:  77%|███████▋  | 1400/1822 [04:07<01:14,  5.65it/s]\u001b[A\n",
      "Validation DataLoader 0:  82%|████████▏ | 1500/1822 [04:25<00:56,  5.66it/s]\u001b[A\n",
      "Validation DataLoader 0:  88%|████████▊ | 1600/1822 [04:43<00:39,  5.65it/s]\u001b[A\n",
      "Validation DataLoader 0:  93%|█████████▎| 1700/1822 [05:00<00:21,  5.65it/s]\u001b[A\n",
      "Validation DataLoader 0:  99%|█████████▉| 1800/1822 [05:18<00:03,  5.66it/s]\u001b[A\n",
      "Epoch 1: 100%|██████████| 6220/6220 [23:57<00:00,  4.33it/s, v_num=22]6it/s]\u001b[A\n",
      "Epoch 2: 100%|██████████| 6220/6220 [18:46<00:00,  5.52it/s, v_num=22]      \u001b[A\n",
      "Validation: 0it [00:00, ?it/s]\u001b[A\n",
      "Validation:   0%|          | 0/1822 [00:00<?, ?it/s]\u001b[A\n",
      "Validation DataLoader 0:   0%|          | 0/1822 [00:00<?, ?it/s]\u001b[A\n",
      "Validation DataLoader 0:   5%|▌         | 100/1822 [00:17<04:59,  5.76it/s]\u001b[A\n",
      "Validation DataLoader 0:  11%|█         | 200/1822 [00:35<04:48,  5.61it/s]\u001b[A\n",
      "Validation DataLoader 0:  16%|█▋        | 300/1822 [00:53<04:31,  5.60it/s]\u001b[A\n",
      "Validation DataLoader 0:  22%|██▏       | 400/1822 [01:11<04:14,  5.59it/s]\u001b[A\n",
      "Validation DataLoader 0:  27%|██▋       | 500/1822 [01:29<03:56,  5.58it/s]\u001b[A\n",
      "Validation DataLoader 0:  33%|███▎      | 600/1822 [01:46<03:36,  5.63it/s]\u001b[A\n",
      "Validation DataLoader 0:  38%|███▊      | 700/1822 [02:04<03:19,  5.61it/s]\u001b[A\n",
      "Validation DataLoader 0:  44%|████▍     | 800/1822 [02:22<03:01,  5.62it/s]\u001b[A\n",
      "Validation DataLoader 0:  49%|████▉     | 900/1822 [02:39<02:43,  5.63it/s]\u001b[A\n",
      "Validation DataLoader 0:  55%|█████▍    | 1000/1822 [02:58<02:26,  5.61it/s]\u001b[A\n",
      "Validation DataLoader 0:  60%|██████    | 1100/1822 [03:15<02:08,  5.62it/s]\u001b[A\n",
      "Validation DataLoader 0:  66%|██████▌   | 1200/1822 [03:33<01:50,  5.62it/s]\u001b[A\n",
      "Validation DataLoader 0:  71%|███████▏  | 1300/1822 [03:50<01:32,  5.63it/s]\u001b[A\n",
      "Validation DataLoader 0:  77%|███████▋  | 1400/1822 [04:08<01:15,  5.63it/s]\u001b[A\n",
      "Validation DataLoader 0:  82%|████████▏ | 1500/1822 [04:26<00:57,  5.62it/s]\u001b[A\n",
      "Validation DataLoader 0:  88%|████████▊ | 1600/1822 [04:44<00:39,  5.63it/s]\u001b[A\n",
      "Validation DataLoader 0:  93%|█████████▎| 1700/1822 [05:02<00:21,  5.61it/s]\u001b[A\n",
      "Validation DataLoader 0:  99%|█████████▉| 1800/1822 [05:20<00:03,  5.62it/s]\u001b[A\n",
      "Epoch 2: 100%|██████████| 6220/6220 [24:10<00:00,  4.29it/s, v_num=22]2it/s]\u001b[A\n",
      "Epoch 3: 100%|██████████| 6220/6220 [18:39<00:00,  5.56it/s, v_num=22]      \u001b[A\n",
      "Validation: 0it [00:00, ?it/s]\u001b[A\n",
      "Validation:   0%|          | 0/1822 [00:00<?, ?it/s]\u001b[A\n",
      "Validation DataLoader 0:   0%|          | 0/1822 [00:00<?, ?it/s]\u001b[A\n",
      "Validation DataLoader 0:   5%|▌         | 100/1822 [00:17<04:55,  5.83it/s]\u001b[A\n",
      "Validation DataLoader 0:  11%|█         | 200/1822 [00:34<04:38,  5.81it/s]\u001b[A\n",
      "Validation DataLoader 0:  16%|█▋        | 300/1822 [00:52<04:24,  5.76it/s]\u001b[A\n",
      "Validation DataLoader 0:  22%|██▏       | 400/1822 [01:09<04:06,  5.76it/s]\u001b[A\n",
      "Validation DataLoader 0:  27%|██▋       | 500/1822 [01:27<03:50,  5.74it/s]\u001b[A\n",
      "Validation DataLoader 0:  33%|███▎      | 600/1822 [01:44<03:32,  5.75it/s]\u001b[A\n",
      "Validation DataLoader 0:  38%|███▊      | 700/1822 [02:02<03:16,  5.72it/s]\u001b[A\n",
      "Validation DataLoader 0:  44%|████▍     | 800/1822 [02:19<02:58,  5.72it/s]\u001b[A\n",
      "Validation DataLoader 0:  49%|████▉     | 900/1822 [02:37<02:41,  5.72it/s]\u001b[A\n",
      "Validation DataLoader 0:  55%|█████▍    | 1000/1822 [02:55<02:24,  5.69it/s]\u001b[A\n",
      "Validation DataLoader 0:  60%|██████    | 1100/1822 [03:13<02:06,  5.69it/s]\u001b[A\n",
      "Validation DataLoader 0:  66%|██████▌   | 1200/1822 [03:31<01:49,  5.67it/s]\u001b[A\n",
      "Validation DataLoader 0:  71%|███████▏  | 1300/1822 [03:49<01:32,  5.65it/s]\u001b[A\n",
      "Epoch 0:   0%|          | 0/6220 [1:46:48<?, ?it/s] [04:07<01:14,  5.66it/s]\u001b[A\n",
      "Epoch 0:   0%|          | 0/6220 [1:43:54<?, ?it/s]                \n",
      "Epoch 0:   0%|          | 0/6220 [1:43:02<?, ?it/s]\n",
      "Epoch 0:   0%|          | 0/6220 [1:41:50<?, ?it/s]                \n",
      "Epoch 0:   0%|          | 0/6220 [1:40:09<?, ?it/s]\n",
      "\n",
      "Validation DataLoader 0:  82%|████████▏ | 1500/1822 [04:24<00:56,  5.66it/s]\u001b[A\n",
      "Validation DataLoader 0:  88%|████████▊ | 1600/1822 [04:41<00:39,  5.69it/s]\u001b[A\n",
      "Validation DataLoader 0:  93%|█████████▎| 1700/1822 [04:58<00:21,  5.70it/s]\u001b[A\n",
      "Validation DataLoader 0:  99%|█████████▉| 1800/1822 [05:17<00:03,  5.67it/s]\u001b[A\n",
      "Epoch 3: 100%|██████████| 6220/6220 [24:01<00:00,  4.32it/s, v_num=22]6it/s]\u001b[A\n",
      "Epoch 4: 100%|██████████| 6220/6220 [18:46<00:00,  5.52it/s, v_num=22]      \u001b[A\n",
      "Validation: 0it [00:00, ?it/s]\u001b[A\n",
      "Validation:   0%|          | 0/1822 [00:00<?, ?it/s]\u001b[A\n",
      "Validation DataLoader 0:   0%|          | 0/1822 [00:00<?, ?it/s]\u001b[A\n",
      "Validation DataLoader 0:   5%|▌         | 100/1822 [00:17<05:04,  5.65it/s]\u001b[A\n",
      "Validation DataLoader 0:  11%|█         | 200/1822 [00:34<04:43,  5.72it/s]\u001b[A\n",
      "Validation DataLoader 0:  16%|█▋        | 300/1822 [00:52<04:28,  5.66it/s]\u001b[A\n",
      "Validation DataLoader 0:  22%|██▏       | 400/1822 [01:10<04:11,  5.66it/s]\u001b[A\n",
      "Validation DataLoader 0:  27%|██▋       | 500/1822 [01:28<03:53,  5.66it/s]\u001b[A\n",
      "Validation DataLoader 0:  33%|███▎      | 600/1822 [01:46<03:37,  5.62it/s]\u001b[A\n",
      "Validation DataLoader 0:  38%|███▊      | 700/1822 [02:04<03:19,  5.62it/s]\u001b[A\n",
      "Validation DataLoader 0:  44%|████▍     | 800/1822 [02:22<03:02,  5.60it/s]\u001b[A\n",
      "Validation DataLoader 0:  49%|████▉     | 900/1822 [02:40<02:44,  5.59it/s]\u001b[A\n",
      "Validation DataLoader 0:  55%|█████▍    | 1000/1822 [02:58<02:26,  5.60it/s]\u001b[A\n",
      "Validation DataLoader 0:  60%|██████    | 1100/1822 [03:16<02:09,  5.59it/s]\u001b[A\n",
      "Validation DataLoader 0:  66%|██████▌   | 1200/1822 [03:33<01:50,  5.61it/s]\u001b[A\n",
      "Validation DataLoader 0:  71%|███████▏  | 1300/1822 [03:51<01:33,  5.60it/s]\u001b[A\n",
      "Validation DataLoader 0:  77%|███████▋  | 1400/1822 [04:09<01:15,  5.61it/s]\u001b[A\n",
      "Validation DataLoader 0:  82%|████████▏ | 1500/1822 [04:27<00:57,  5.62it/s]\u001b[A\n",
      "Validation DataLoader 0:  88%|████████▊ | 1600/1822 [04:45<00:39,  5.61it/s]\u001b[A\n",
      "Validation DataLoader 0:  93%|█████████▎| 1700/1822 [05:02<00:21,  5.62it/s]\u001b[A\n",
      "Validation DataLoader 0:  99%|█████████▉| 1800/1822 [05:20<00:03,  5.61it/s]\u001b[A\n",
      "Epoch 4: 100%|██████████| 6220/6220 [24:11<00:00,  4.29it/s, v_num=22]1it/s]\u001b[A\n",
      "Epoch 4: 100%|██████████| 6220/6220 [24:11<00:00,  4.29it/s, v_num=22]      \u001b[A"
     ]
    },
    {
     "name": "stderr",
     "output_type": "stream",
     "text": [
      "`Trainer.fit` stopped: `max_epochs=5` reached.\n"
     ]
    },
    {
     "name": "stdout",
     "output_type": "stream",
     "text": [
      "Epoch 4: 100%|██████████| 6220/6220 [24:11<00:00,  4.29it/s, v_num=22]\n"
     ]
    }
   ],
   "source": [
    "BATCH_SIZE = 128\n",
    "device='cuda'\n",
    "lr=1e-4\n",
    "epochs=5\n",
    "train_loader = torch.utils.data.DataLoader(train_ds, batch_size=BATCH_SIZE,shuffle=False)\n",
    "val_loader = torch.utils.data.DataLoader(validation_ds, batch_size=BATCH_SIZE,shuffle=False)\n",
    "model=OneDimConvModel(train_loader,val_loader,train_ds.seq_len)\n",
    "train_model(model,['try'],epochs,BATCH_SIZE,lr)"
   ]
  },
  {
   "cell_type": "code",
   "execution_count": 39,
   "id": "b7a88314-63a6-4800-a02a-d45f25297965",
   "metadata": {},
   "outputs": [
    {
     "name": "stderr",
     "output_type": "stream",
     "text": [
      "/home/moshayof/.conda/envs/harel/lib/python3.9/site-packages/lightning/fabric/plugins/environments/slurm.py:165: PossibleUserWarning: The `srun` command is available on your system but is not used. HINT: If your intention is to run Lightning on SLURM, prepend your python command with `srun` like so: srun python /home/moshayof/.conda/envs/harel/lib/python3.9/site- ...\n",
      "  rank_zero_warn(\n",
      "GPU available: True (cuda), used: True\n",
      "TPU available: False, using: 0 TPU cores\n",
      "IPU available: False, using: 0 IPUs\n",
      "HPU available: False, using: 0 HPUs\n"
     ]
    },
    {
     "name": "stdout",
     "output_type": "stream",
     "text": [
      "https://app.neptune.ai/harelmx/deep-hw2/e/DEEP2-156\n"
     ]
    },
    {
     "name": "stderr",
     "output_type": "stream",
     "text": [
      "LOCAL_RANK: 0 - CUDA_VISIBLE_DEVICES: [0]\n",
      "\n",
      "  | Name    | Type        | Params\n",
      "----------------------------------------\n",
      "0 | conv1   | Conv1d      | 160   \n",
      "1 | bn1     | BatchNorm1d | 32    \n",
      "2 | conv2   | Conv1d      | 1.6 K \n",
      "3 | bn2     | BatchNorm1d | 64    \n",
      "4 | conv3   | Conv1d      | 6.2 K \n",
      "5 | bn3     | BatchNorm1d | 128   \n",
      "6 | fc1     | Linear      | 8.3 K \n",
      "7 | fc2     | Linear      | 516   \n",
      "8 | dropout | Dropout     | 0     \n",
      "----------------------------------------\n",
      "17.0 K    Trainable params\n",
      "0         Non-trainable params\n",
      "17.0 K    Total params\n",
      "0.068     Total estimated model params size (MB)\n"
     ]
    },
    {
     "name": "stdout",
     "output_type": "stream",
     "text": [
      "Sanity Checking: 0it [00:00, ?it/s]"
     ]
    },
    {
     "name": "stderr",
     "output_type": "stream",
     "text": [
      "/home/moshayof/.conda/envs/harel/lib/python3.9/site-packages/lightning/pytorch/trainer/connectors/data_connector.py:430: PossibleUserWarning: The dataloader, val_dataloader, does not have many workers which may be a bottleneck. Consider increasing the value of the `num_workers` argument` (try 12 which is the number of cpus on this machine) in the `DataLoader` init to improve performance.\n",
      "  rank_zero_warn(\n"
     ]
    },
    {
     "name": "stdout",
     "output_type": "stream",
     "text": [
      "                                                                           "
     ]
    },
    {
     "name": "stderr",
     "output_type": "stream",
     "text": [
      "/home/moshayof/.conda/envs/harel/lib/python3.9/site-packages/lightning/pytorch/trainer/connectors/data_connector.py:430: PossibleUserWarning: The dataloader, train_dataloader, does not have many workers which may be a bottleneck. Consider increasing the value of the `num_workers` argument` (try 12 which is the number of cpus on this machine) in the `DataLoader` init to improve performance.\n",
      "  rank_zero_warn(\n"
     ]
    },
    {
     "name": "stdout",
     "output_type": "stream",
     "text": [
      "Epoch 0: 100%|██████████| 3110/3110 [19:07<00:00,  2.71it/s, v_num=23]\n",
      "Validation: 0it [00:00, ?it/s]\u001b[A\n",
      "Validation:   0%|          | 0/911 [00:00<?, ?it/s]\u001b[A\n",
      "Validation DataLoader 0:   0%|          | 0/911 [00:00<?, ?it/s]\u001b[A\n",
      "Validation DataLoader 0:  11%|█         | 100/911 [00:35<04:50,  2.79it/s]\u001b[A\n",
      "Validation DataLoader 0:  22%|██▏       | 200/911 [01:10<04:12,  2.82it/s]\u001b[A\n",
      "Validation DataLoader 0:  33%|███▎      | 300/911 [01:45<03:34,  2.85it/s]\u001b[A\n",
      "Validation DataLoader 0:  44%|████▍     | 400/911 [02:20<02:59,  2.84it/s]\u001b[A\n",
      "Validation DataLoader 0:  55%|█████▍    | 500/911 [02:55<02:24,  2.84it/s]\u001b[A\n",
      "Validation DataLoader 0:  66%|██████▌   | 600/911 [03:32<01:49,  2.83it/s]\u001b[A\n",
      "Validation DataLoader 0:  77%|███████▋  | 700/911 [04:08<01:14,  2.81it/s]\u001b[A\n",
      "Validation DataLoader 0:  88%|████████▊ | 800/911 [04:44<00:39,  2.81it/s]\u001b[A\n",
      "Validation DataLoader 0:  99%|█████████▉| 900/911 [05:18<00:03,  2.82it/s]\u001b[A\n",
      "Epoch 0: 100%|██████████| 3110/3110 [24:30<00:00,  2.12it/s, v_num=23]t/s]\u001b[A\n",
      "Epoch 1: 100%|██████████| 3110/3110 [18:29<00:00,  2.80it/s, v_num=23]    \u001b[A\n",
      "Validation: 0it [00:00, ?it/s]\u001b[A\n",
      "Validation:   0%|          | 0/911 [00:00<?, ?it/s]\u001b[A\n",
      "Validation DataLoader 0:   0%|          | 0/911 [00:00<?, ?it/s]\u001b[A\n",
      "Validation DataLoader 0:  11%|█         | 100/911 [00:34<04:43,  2.86it/s]\u001b[A\n",
      "Validation DataLoader 0:  22%|██▏       | 200/911 [01:10<04:09,  2.85it/s]\u001b[A\n",
      "Validation DataLoader 0:  33%|███▎      | 300/911 [01:45<03:35,  2.84it/s]\u001b[A\n",
      "Validation DataLoader 0:  44%|████▍     | 400/911 [02:21<03:00,  2.83it/s]\u001b[A\n",
      "Validation DataLoader 0:  55%|█████▍    | 500/911 [02:57<02:25,  2.82it/s]\u001b[A\n",
      "Validation DataLoader 0:  66%|██████▌   | 600/911 [03:32<01:49,  2.83it/s]\u001b[A\n",
      "Validation DataLoader 0:  77%|███████▋  | 700/911 [04:05<01:14,  2.85it/s]\u001b[A\n",
      "Validation DataLoader 0:  88%|████████▊ | 800/911 [04:39<00:38,  2.86it/s]\u001b[A\n",
      "Validation DataLoader 0:  99%|█████████▉| 900/911 [05:15<00:03,  2.85it/s]\u001b[A\n",
      "Epoch 1: 100%|██████████| 3110/3110 [23:49<00:00,  2.18it/s, v_num=23]t/s]\u001b[A\n",
      "Epoch 2: 100%|██████████| 3110/3110 [18:24<00:00,  2.82it/s, v_num=23]    \u001b[A\n",
      "Validation: 0it [00:00, ?it/s]\u001b[A\n",
      "Validation:   0%|          | 0/911 [00:00<?, ?it/s]\u001b[A\n",
      "Validation DataLoader 0:   0%|          | 0/911 [00:00<?, ?it/s]\u001b[A\n",
      "Validation DataLoader 0:  11%|█         | 100/911 [00:34<04:43,  2.86it/s]\u001b[A\n",
      "Validation DataLoader 0:  22%|██▏       | 200/911 [01:10<04:11,  2.83it/s]\u001b[A\n",
      "Validation DataLoader 0:  33%|███▎      | 300/911 [01:46<03:37,  2.81it/s]\u001b[A\n",
      "Validation DataLoader 0:  44%|████▍     | 400/911 [02:22<03:01,  2.82it/s]\u001b[A\n",
      "Validation DataLoader 0:  55%|█████▍    | 500/911 [02:56<02:25,  2.83it/s]\u001b[A\n",
      "Validation DataLoader 0:  66%|██████▌   | 600/911 [03:30<01:49,  2.85it/s]\u001b[A\n",
      "Validation DataLoader 0:  77%|███████▋  | 700/911 [04:05<01:13,  2.86it/s]\u001b[A\n",
      "Validation DataLoader 0:  88%|████████▊ | 800/911 [04:39<00:38,  2.86it/s]\u001b[A\n",
      "Validation DataLoader 0:  99%|█████████▉| 900/911 [05:15<00:03,  2.85it/s]\u001b[A\n",
      "Epoch 2: 100%|██████████| 3110/3110 [23:43<00:00,  2.18it/s, v_num=23]t/s]\u001b[A\n",
      "Epoch 3: 100%|██████████| 3110/3110 [18:35<00:00,  2.79it/s, v_num=23]    \u001b[A\n",
      "Validation: 0it [00:00, ?it/s]\u001b[A\n",
      "Validation:   0%|          | 0/911 [00:00<?, ?it/s]\u001b[A\n",
      "Validation DataLoader 0:   0%|          | 0/911 [00:00<?, ?it/s]\u001b[A\n",
      "Validation DataLoader 0:  11%|█         | 100/911 [00:36<04:54,  2.75it/s]\u001b[A\n",
      "Validation DataLoader 0:  22%|██▏       | 200/911 [01:12<04:17,  2.76it/s]\u001b[A\n",
      "Validation DataLoader 0:  33%|███▎      | 300/911 [01:47<03:38,  2.79it/s]\u001b[A\n",
      "Validation DataLoader 0:  44%|████▍     | 400/911 [02:22<03:01,  2.81it/s]\u001b[A\n",
      "Validation DataLoader 0:  55%|█████▍    | 500/911 [02:56<02:25,  2.83it/s]\u001b[A\n",
      "Validation DataLoader 0:  66%|██████▌   | 600/911 [03:29<01:48,  2.86it/s]\u001b[A\n",
      "Validation DataLoader 0:  77%|███████▋  | 700/911 [04:05<01:13,  2.85it/s]\u001b[A\n",
      "Validation DataLoader 0:  88%|████████▊ | 800/911 [04:42<00:39,  2.84it/s]\u001b[A\n",
      "Validation DataLoader 0:  99%|█████████▉| 900/911 [05:17<00:03,  2.84it/s]\u001b[A\n",
      "Epoch 3: 100%|██████████| 3110/3110 [23:56<00:00,  2.17it/s, v_num=23]t/s]\u001b[A\n",
      "Epoch 4: 100%|██████████| 3110/3110 [18:34<00:00,  2.79it/s, v_num=23]    \u001b[A\n",
      "Validation: 0it [00:00, ?it/s]\u001b[A\n",
      "Validation:   0%|          | 0/911 [00:00<?, ?it/s]\u001b[A\n",
      "Validation DataLoader 0:   0%|          | 0/911 [00:00<?, ?it/s]\u001b[A\n",
      "Validation DataLoader 0:  11%|█         | 100/911 [00:34<04:40,  2.89it/s]\u001b[A\n",
      "Validation DataLoader 0:  22%|██▏       | 200/911 [01:10<04:10,  2.84it/s]\u001b[A\n",
      "Validation DataLoader 0:  33%|███▎      | 300/911 [01:45<03:35,  2.83it/s]\u001b[A\n",
      "Validation DataLoader 0:  44%|████▍     | 400/911 [02:21<03:00,  2.83it/s]\u001b[A\n",
      "Validation DataLoader 0:  55%|█████▍    | 500/911 [02:57<02:25,  2.82it/s]\u001b[A\n",
      "Validation DataLoader 0:  66%|██████▌   | 600/911 [03:33<01:50,  2.81it/s]\u001b[A\n",
      "Validation DataLoader 0:  77%|███████▋  | 700/911 [04:09<01:15,  2.80it/s]\u001b[A\n",
      "Validation DataLoader 0:  88%|████████▊ | 800/911 [04:44<00:39,  2.81it/s]\u001b[A\n",
      "Validation DataLoader 0:  99%|█████████▉| 900/911 [05:20<00:03,  2.81it/s]\u001b[A\n",
      "Epoch 4: 100%|██████████| 3110/3110 [23:58<00:00,  2.16it/s, v_num=23]t/s]\u001b[A\n",
      "Epoch 4: 100%|██████████| 3110/3110 [23:58<00:00,  2.16it/s, v_num=23]    \u001b[A"
     ]
    },
    {
     "name": "stderr",
     "output_type": "stream",
     "text": [
      "`Trainer.fit` stopped: `max_epochs=5` reached.\n"
     ]
    },
    {
     "name": "stdout",
     "output_type": "stream",
     "text": [
      "Epoch 4: 100%|██████████| 3110/3110 [23:58<00:00,  2.16it/s, v_num=23]\n"
     ]
    }
   ],
   "source": [
    "BATCH_SIZE = 256\n",
    "device='cuda'\n",
    "lr=1e-4\n",
    "epochs=5\n",
    "train_loader = torch.utils.data.DataLoader(train_ds, batch_size=BATCH_SIZE,shuffle=False)\n",
    "val_loader = torch.utils.data.DataLoader(validation_ds, batch_size=BATCH_SIZE,shuffle=False)\n",
    "model=OneDimConvModel(train_loader,val_loader,train_ds.seq_len)\n",
    "train_model(model,['try'],epochs,BATCH_SIZE,lr)"
   ]
  },
  {
   "cell_type": "code",
   "execution_count": 40,
   "id": "794877de-c2f8-41f7-a45b-fff92d52e741",
   "metadata": {},
   "outputs": [
    {
     "name": "stderr",
     "output_type": "stream",
     "text": [
      "/home/moshayof/.conda/envs/harel/lib/python3.9/site-packages/lightning/fabric/plugins/environments/slurm.py:165: PossibleUserWarning: The `srun` command is available on your system but is not used. HINT: If your intention is to run Lightning on SLURM, prepend your python command with `srun` like so: srun python /home/moshayof/.conda/envs/harel/lib/python3.9/site- ...\n",
      "  rank_zero_warn(\n",
      "GPU available: True (cuda), used: True\n",
      "TPU available: False, using: 0 TPU cores\n",
      "IPU available: False, using: 0 IPUs\n",
      "HPU available: False, using: 0 HPUs\n"
     ]
    },
    {
     "name": "stdout",
     "output_type": "stream",
     "text": [
      "https://app.neptune.ai/harelmx/deep-hw2/e/DEEP2-157\n"
     ]
    },
    {
     "name": "stderr",
     "output_type": "stream",
     "text": [
      "LOCAL_RANK: 0 - CUDA_VISIBLE_DEVICES: [0]\n",
      "\n",
      "  | Name    | Type        | Params\n",
      "----------------------------------------\n",
      "0 | conv1   | Conv1d      | 160   \n",
      "1 | bn1     | BatchNorm1d | 32    \n",
      "2 | conv2   | Conv1d      | 1.6 K \n",
      "3 | bn2     | BatchNorm1d | 64    \n",
      "4 | conv3   | Conv1d      | 6.2 K \n",
      "5 | bn3     | BatchNorm1d | 128   \n",
      "6 | fc1     | Linear      | 8.3 K \n",
      "7 | fc2     | Linear      | 516   \n",
      "8 | dropout | Dropout     | 0     \n",
      "----------------------------------------\n",
      "17.0 K    Trainable params\n",
      "0         Non-trainable params\n",
      "17.0 K    Total params\n",
      "0.068     Total estimated model params size (MB)\n"
     ]
    },
    {
     "name": "stdout",
     "output_type": "stream",
     "text": [
      "Sanity Checking: 0it [00:00, ?it/s]"
     ]
    },
    {
     "name": "stderr",
     "output_type": "stream",
     "text": [
      "/home/moshayof/.conda/envs/harel/lib/python3.9/site-packages/lightning/pytorch/trainer/connectors/data_connector.py:430: PossibleUserWarning: The dataloader, val_dataloader, does not have many workers which may be a bottleneck. Consider increasing the value of the `num_workers` argument` (try 12 which is the number of cpus on this machine) in the `DataLoader` init to improve performance.\n",
      "  rank_zero_warn(\n"
     ]
    },
    {
     "name": "stdout",
     "output_type": "stream",
     "text": [
      "                                                                           "
     ]
    },
    {
     "name": "stderr",
     "output_type": "stream",
     "text": [
      "/home/moshayof/.conda/envs/harel/lib/python3.9/site-packages/lightning/pytorch/trainer/connectors/data_connector.py:430: PossibleUserWarning: The dataloader, train_dataloader, does not have many workers which may be a bottleneck. Consider increasing the value of the `num_workers` argument` (try 12 which is the number of cpus on this machine) in the `DataLoader` init to improve performance.\n",
      "  rank_zero_warn(\n"
     ]
    },
    {
     "name": "stdout",
     "output_type": "stream",
     "text": [
      "Epoch 0: 100%|██████████| 6220/6220 [20:04<00:00,  5.16it/s, v_num=24]\n",
      "Validation: 0it [00:00, ?it/s]\u001b[A\n",
      "Validation:   0%|          | 0/1822 [00:00<?, ?it/s]\u001b[A\n",
      "Validation DataLoader 0:   0%|          | 0/1822 [00:00<?, ?it/s]\u001b[A\n",
      "Validation DataLoader 0:   5%|▌         | 100/1822 [00:21<06:13,  4.61it/s]\u001b[A\n",
      "Validation DataLoader 0:  11%|█         | 200/1822 [00:42<05:44,  4.71it/s]\u001b[A\n",
      "Validation DataLoader 0:  16%|█▋        | 300/1822 [01:01<05:13,  4.86it/s]\u001b[A\n",
      "Validation DataLoader 0:  22%|██▏       | 400/1822 [01:21<04:48,  4.92it/s]\u001b[A\n",
      "Validation DataLoader 0:  27%|██▋       | 500/1822 [01:40<04:25,  4.98it/s]\u001b[A\n",
      "Validation DataLoader 0:  33%|███▎      | 600/1822 [01:59<04:02,  5.04it/s]\u001b[A\n",
      "Validation DataLoader 0:  38%|███▊      | 700/1822 [02:18<03:42,  5.04it/s]\u001b[A\n",
      "Validation DataLoader 0:  44%|████▍     | 800/1822 [02:38<03:22,  5.06it/s]\u001b[A\n",
      "Validation DataLoader 0:  49%|████▉     | 900/1822 [02:57<03:01,  5.08it/s]\u001b[A\n",
      "Validation DataLoader 0:  55%|█████▍    | 1000/1822 [03:16<02:41,  5.08it/s]\u001b[A\n",
      "Validation DataLoader 0:  60%|██████    | 1100/1822 [03:35<02:21,  5.09it/s]\u001b[A\n",
      "Validation DataLoader 0:  66%|██████▌   | 1200/1822 [03:55<02:02,  5.10it/s]\u001b[A\n",
      "Validation DataLoader 0:  71%|███████▏  | 1300/1822 [04:15<01:42,  5.08it/s]\u001b[A\n",
      "Validation DataLoader 0:  77%|███████▋  | 1400/1822 [04:35<01:22,  5.09it/s]\u001b[A\n",
      "Validation DataLoader 0:  82%|████████▏ | 1500/1822 [04:54<01:03,  5.10it/s]\u001b[A\n",
      "Validation DataLoader 0:  88%|████████▊ | 1600/1822 [05:13<00:43,  5.10it/s]\u001b[A\n",
      "Validation DataLoader 0:  93%|█████████▎| 1700/1822 [05:32<00:23,  5.11it/s]\u001b[A\n",
      "Validation DataLoader 0:  99%|█████████▉| 1800/1822 [05:52<00:04,  5.11it/s]\u001b[A\n",
      "Epoch 0: 100%|██████████| 6220/6220 [26:01<00:00,  3.98it/s, v_num=24]0it/s]\u001b[A\n",
      "Epoch 1: 100%|██████████| 6220/6220 [20:26<00:00,  5.07it/s, v_num=24]      \u001b[A\n",
      "Validation: 0it [00:00, ?it/s]\u001b[A\n",
      "Validation:   0%|          | 0/1822 [00:00<?, ?it/s]\u001b[A\n",
      "Validation DataLoader 0:   0%|          | 0/1822 [00:00<?, ?it/s]\u001b[A\n",
      "Validation DataLoader 0:   5%|▌         | 100/1822 [00:20<05:52,  4.88it/s]\u001b[A\n",
      "Validation DataLoader 0:  11%|█         | 200/1822 [00:40<05:30,  4.91it/s]\u001b[A\n",
      "Validation DataLoader 0:  16%|█▋        | 300/1822 [01:00<05:07,  4.94it/s]\u001b[A\n",
      "Validation DataLoader 0:  22%|██▏       | 400/1822 [01:20<04:44,  5.00it/s]\u001b[A\n",
      "Validation DataLoader 0:  27%|██▋       | 500/1822 [01:39<04:23,  5.03it/s]\u001b[A\n",
      "Validation DataLoader 0:  33%|███▎      | 600/1822 [02:01<04:07,  4.95it/s]\u001b[A\n",
      "Validation DataLoader 0:  38%|███▊      | 700/1822 [02:20<03:45,  4.97it/s]\u001b[A\n",
      "Validation DataLoader 0:  44%|████▍     | 800/1822 [02:39<03:23,  5.02it/s]\u001b[A\n",
      "Validation DataLoader 0:  49%|████▉     | 900/1822 [02:58<03:02,  5.04it/s]\u001b[A\n",
      "Validation DataLoader 0:  55%|█████▍    | 1000/1822 [03:18<02:42,  5.05it/s]\u001b[A\n",
      "Validation DataLoader 0:  60%|██████    | 1100/1822 [03:36<02:22,  5.07it/s]\u001b[A\n",
      "Validation DataLoader 0:  66%|██████▌   | 1200/1822 [03:56<02:02,  5.07it/s]\u001b[A\n",
      "Validation DataLoader 0:  71%|███████▏  | 1300/1822 [04:16<01:42,  5.08it/s]\u001b[A\n",
      "Validation DataLoader 0:  77%|███████▋  | 1400/1822 [04:34<01:22,  5.09it/s]\u001b[A\n",
      "Validation DataLoader 0:  82%|████████▏ | 1500/1822 [04:54<01:03,  5.09it/s]\u001b[A\n",
      "Validation DataLoader 0:  88%|████████▊ | 1600/1822 [05:13<00:43,  5.10it/s]\u001b[A\n",
      "Validation DataLoader 0:  93%|█████████▎| 1700/1822 [05:32<00:23,  5.11it/s]\u001b[A\n",
      "Validation DataLoader 0:  99%|█████████▉| 1800/1822 [05:51<00:04,  5.11it/s]\u001b[A\n",
      "Epoch 1: 100%|██████████| 6220/6220 [26:22<00:00,  3.93it/s, v_num=24]2it/s]\u001b[A\n",
      "Epoch 2: 100%|██████████| 6220/6220 [20:21<00:00,  5.09it/s, v_num=24]      \u001b[A\n",
      "Validation: 0it [00:00, ?it/s]\u001b[A\n",
      "Validation:   0%|          | 0/1822 [00:00<?, ?it/s]\u001b[A\n",
      "Validation DataLoader 0:   0%|          | 0/1822 [00:00<?, ?it/s]\u001b[A\n",
      "Validation DataLoader 0:   5%|▌         | 100/1822 [00:18<05:24,  5.31it/s]\u001b[A\n",
      "Validation DataLoader 0:  11%|█         | 200/1822 [00:39<05:16,  5.12it/s]\u001b[A\n",
      "Validation DataLoader 0:  16%|█▋        | 300/1822 [00:59<05:00,  5.07it/s]\u001b[A\n",
      "Validation DataLoader 0:  22%|██▏       | 400/1822 [01:18<04:37,  5.12it/s]\u001b[A\n",
      "Validation DataLoader 0:  27%|██▋       | 500/1822 [01:37<04:16,  5.15it/s]\u001b[A\n",
      "Validation DataLoader 0:  33%|███▎      | 600/1822 [01:56<03:56,  5.16it/s]\u001b[A\n",
      "Validation DataLoader 0:  38%|███▊      | 700/1822 [02:15<03:37,  5.16it/s]\u001b[A\n",
      "Validation DataLoader 0:  44%|████▍     | 800/1822 [02:35<03:18,  5.15it/s]\u001b[A\n",
      "Validation DataLoader 0:  49%|████▉     | 900/1822 [02:54<02:58,  5.16it/s]\u001b[A\n",
      "Validation DataLoader 0:  55%|█████▍    | 1000/1822 [03:13<02:39,  5.16it/s]\u001b[A\n",
      "Validation DataLoader 0:  60%|██████    | 1100/1822 [03:33<02:19,  5.16it/s]\u001b[A\n",
      "Validation DataLoader 0:  66%|██████▌   | 1200/1822 [03:52<02:00,  5.17it/s]\u001b[A\n",
      "Validation DataLoader 0:  71%|███████▏  | 1300/1822 [04:12<01:41,  5.16it/s]\u001b[A\n",
      "Validation DataLoader 0:  77%|███████▋  | 1400/1822 [04:32<01:22,  5.14it/s]\u001b[A\n",
      "Validation DataLoader 0:  82%|████████▏ | 1500/1822 [04:51<01:02,  5.14it/s]\u001b[A\n",
      "Validation DataLoader 0:  88%|████████▊ | 1600/1822 [05:12<00:43,  5.12it/s]\u001b[A\n",
      "Validation DataLoader 0:  93%|█████████▎| 1700/1822 [05:33<00:23,  5.10it/s]\u001b[A\n",
      "Validation DataLoader 0:  99%|█████████▉| 1800/1822 [05:53<00:04,  5.09it/s]\u001b[A\n",
      "Epoch 2: 100%|██████████| 6220/6220 [26:19<00:00,  3.94it/s, v_num=24]9it/s]\u001b[A\n",
      "Epoch 3: 100%|██████████| 6220/6220 [18:35<00:00,  5.58it/s, v_num=24]      \u001b[A\n",
      "Validation: 0it [00:00, ?it/s]\u001b[A\n",
      "Validation:   0%|          | 0/1822 [00:00<?, ?it/s]\u001b[A\n",
      "Validation DataLoader 0:   0%|          | 0/1822 [00:00<?, ?it/s]\u001b[A\n",
      "Validation DataLoader 0:   5%|▌         | 100/1822 [00:16<04:49,  5.94it/s]\u001b[A\n",
      "Validation DataLoader 0:  11%|█         | 200/1822 [00:34<04:39,  5.80it/s]\u001b[A\n",
      "Validation DataLoader 0:  16%|█▋        | 300/1822 [00:52<04:24,  5.75it/s]\u001b[A\n",
      "Validation DataLoader 0:  22%|██▏       | 400/1822 [01:09<04:07,  5.73it/s]\u001b[A\n",
      "Validation DataLoader 0:  27%|██▋       | 500/1822 [01:27<03:51,  5.72it/s]\u001b[A\n",
      "Validation DataLoader 0:  33%|███▎      | 600/1822 [01:45<03:34,  5.70it/s]\u001b[A\n",
      "Validation DataLoader 0:  38%|███▊      | 700/1822 [02:03<03:17,  5.67it/s]\u001b[A\n",
      "Validation DataLoader 0:  44%|████▍     | 800/1822 [02:21<03:00,  5.67it/s]\u001b[A\n",
      "Validation DataLoader 0:  49%|████▉     | 900/1822 [02:38<02:42,  5.66it/s]\u001b[A\n",
      "Validation DataLoader 0:  55%|█████▍    | 1000/1822 [02:57<02:25,  5.64it/s]\u001b[A\n",
      "Validation DataLoader 0:  60%|██████    | 1100/1822 [03:14<02:07,  5.66it/s]\u001b[A\n",
      "Validation DataLoader 0:  66%|██████▌   | 1200/1822 [03:32<01:49,  5.66it/s]\u001b[A\n",
      "Validation DataLoader 0:  71%|███████▏  | 1300/1822 [03:49<01:32,  5.67it/s]\u001b[A\n",
      "Validation DataLoader 0:  77%|███████▋  | 1400/1822 [04:06<01:14,  5.67it/s]\u001b[A\n",
      "Validation DataLoader 0:  82%|████████▏ | 1500/1822 [04:24<00:56,  5.67it/s]\u001b[A\n",
      "Validation DataLoader 0:  88%|████████▊ | 1600/1822 [04:41<00:39,  5.68it/s]\u001b[A\n",
      "Validation DataLoader 0:  93%|█████████▎| 1700/1822 [04:59<00:21,  5.67it/s]\u001b[A\n",
      "Validation DataLoader 0:  99%|█████████▉| 1800/1822 [05:16<00:03,  5.69it/s]\u001b[A\n",
      "Epoch 3: 100%|██████████| 6220/6220 [23:56<00:00,  4.33it/s, v_num=24]8it/s]\u001b[A\n",
      "Epoch 4:  26%|██▌       | 1600/6220 [04:46<13:48,  5.58it/s, v_num=24]      \u001b[A"
     ]
    },
    {
     "name": "stderr",
     "output_type": "stream",
     "text": [
      "/home/moshayof/.conda/envs/harel/lib/python3.9/site-packages/lightning/pytorch/trainer/call.py:54: UserWarning: Detected KeyboardInterrupt, attempting graceful shutdown...\n",
      "  rank_zero_warn(\"Detected KeyboardInterrupt, attempting graceful shutdown...\")\n"
     ]
    }
   ],
   "source": [
    "BATCH_SIZE = 128\n",
    "device='cuda'\n",
    "lr=1e-5\n",
    "epochs=5\n",
    "train_loader = torch.utils.data.DataLoader(train_ds, batch_size=BATCH_SIZE,shuffle=False)\n",
    "val_loader = torch.utils.data.DataLoader(validation_ds, batch_size=BATCH_SIZE,shuffle=False)\n",
    "model=OneDimConvModel(train_loader,val_loader,train_ds.seq_len)\n",
    "train_model(model,['try'],epochs,BATCH_SIZE,lr)"
   ]
  },
  {
   "cell_type": "code",
   "execution_count": 41,
   "id": "36fb80c6-012e-406e-bbe3-66ddff25d583",
   "metadata": {},
   "outputs": [
    {
     "name": "stderr",
     "output_type": "stream",
     "text": [
      "/home/moshayof/.conda/envs/harel/lib/python3.9/site-packages/lightning/fabric/plugins/environments/slurm.py:165: PossibleUserWarning: The `srun` command is available on your system but is not used. HINT: If your intention is to run Lightning on SLURM, prepend your python command with `srun` like so: srun python /home/moshayof/.conda/envs/harel/lib/python3.9/site- ...\n",
      "  rank_zero_warn(\n",
      "GPU available: True (cuda), used: True\n",
      "TPU available: False, using: 0 TPU cores\n",
      "IPU available: False, using: 0 IPUs\n",
      "HPU available: False, using: 0 HPUs\n"
     ]
    },
    {
     "name": "stdout",
     "output_type": "stream",
     "text": [
      "https://app.neptune.ai/harelmx/deep-hw2/e/DEEP2-158\n"
     ]
    },
    {
     "name": "stderr",
     "output_type": "stream",
     "text": [
      "LOCAL_RANK: 0 - CUDA_VISIBLE_DEVICES: [0]\n",
      "\n",
      "  | Name    | Type        | Params\n",
      "----------------------------------------\n",
      "0 | conv1   | Conv1d      | 160   \n",
      "1 | bn1     | BatchNorm1d | 32    \n",
      "2 | conv2   | Conv1d      | 1.6 K \n",
      "3 | bn2     | BatchNorm1d | 64    \n",
      "4 | conv3   | Conv1d      | 6.2 K \n",
      "5 | bn3     | BatchNorm1d | 128   \n",
      "6 | fc1     | Linear      | 8.3 K \n",
      "7 | fc2     | Linear      | 516   \n",
      "8 | dropout | Dropout     | 0     \n",
      "----------------------------------------\n",
      "17.0 K    Trainable params\n",
      "0         Non-trainable params\n",
      "17.0 K    Total params\n",
      "0.068     Total estimated model params size (MB)\n"
     ]
    },
    {
     "name": "stdout",
     "output_type": "stream",
     "text": [
      "Sanity Checking: 0it [00:00, ?it/s]"
     ]
    },
    {
     "name": "stderr",
     "output_type": "stream",
     "text": [
      "/home/moshayof/.conda/envs/harel/lib/python3.9/site-packages/lightning/pytorch/trainer/connectors/data_connector.py:430: PossibleUserWarning: The dataloader, val_dataloader, does not have many workers which may be a bottleneck. Consider increasing the value of the `num_workers` argument` (try 12 which is the number of cpus on this machine) in the `DataLoader` init to improve performance.\n",
      "  rank_zero_warn(\n"
     ]
    },
    {
     "name": "stdout",
     "output_type": "stream",
     "text": [
      "                                                                           "
     ]
    },
    {
     "name": "stderr",
     "output_type": "stream",
     "text": [
      "/home/moshayof/.conda/envs/harel/lib/python3.9/site-packages/lightning/pytorch/trainer/connectors/data_connector.py:430: PossibleUserWarning: The dataloader, train_dataloader, does not have many workers which may be a bottleneck. Consider increasing the value of the `num_workers` argument` (try 12 which is the number of cpus on this machine) in the `DataLoader` init to improve performance.\n",
      "  rank_zero_warn(\n"
     ]
    },
    {
     "name": "stdout",
     "output_type": "stream",
     "text": [
      "Epoch 0: 100%|██████████| 6220/6220 [18:38<00:00,  5.56it/s, v_num=25]\n",
      "Validation: 0it [00:00, ?it/s]\u001b[A\n",
      "Validation:   0%|          | 0/1822 [00:00<?, ?it/s]\u001b[A\n",
      "Validation DataLoader 0:   0%|          | 0/1822 [00:00<?, ?it/s]\u001b[A\n",
      "Validation DataLoader 0:   5%|▌         | 100/1822 [00:17<05:07,  5.60it/s]\u001b[A\n",
      "Validation DataLoader 0:  11%|█         | 200/1822 [00:36<04:52,  5.55it/s]\u001b[A\n",
      "Validation DataLoader 0:  16%|█▋        | 300/1822 [00:53<04:30,  5.64it/s]\u001b[A\n",
      "Validation DataLoader 0:  22%|██▏       | 400/1822 [01:11<04:13,  5.61it/s]\u001b[A\n",
      "Validation DataLoader 0:  27%|██▋       | 500/1822 [01:28<03:53,  5.66it/s]\u001b[A\n",
      "Validation DataLoader 0:  33%|███▎      | 600/1822 [01:45<03:35,  5.67it/s]\u001b[A\n",
      "Validation DataLoader 0:  38%|███▊      | 700/1822 [02:03<03:18,  5.66it/s]\u001b[A\n",
      "Validation DataLoader 0:  44%|████▍     | 800/1822 [02:21<03:00,  5.67it/s]\u001b[A\n",
      "Validation DataLoader 0:  49%|████▉     | 900/1822 [02:38<02:42,  5.67it/s]\u001b[A\n",
      "Validation DataLoader 0:  55%|█████▍    | 1000/1822 [02:55<02:24,  5.69it/s]\u001b[A\n",
      "Validation DataLoader 0:  60%|██████    | 1100/1822 [03:13<02:07,  5.68it/s]\u001b[A\n",
      "Validation DataLoader 0:  66%|██████▌   | 1200/1822 [03:31<01:49,  5.69it/s]\u001b[A\n",
      "Validation DataLoader 0:  71%|███████▏  | 1300/1822 [03:48<01:31,  5.68it/s]\u001b[A\n",
      "Validation DataLoader 0:  77%|███████▋  | 1400/1822 [04:06<01:14,  5.67it/s]\u001b[A\n",
      "Validation DataLoader 0:  82%|████████▏ | 1500/1822 [04:24<00:56,  5.67it/s]\u001b[A\n",
      "Validation DataLoader 0:  88%|████████▊ | 1600/1822 [04:42<00:39,  5.66it/s]\u001b[A\n",
      "Validation DataLoader 0:  93%|█████████▎| 1700/1822 [05:00<00:21,  5.66it/s]\u001b[A\n",
      "Validation DataLoader 0:  99%|█████████▉| 1800/1822 [05:17<00:03,  5.67it/s]\u001b[A\n",
      "Epoch 0: 100%|██████████| 6220/6220 [24:00<00:00,  4.32it/s, v_num=25]7it/s]\u001b[A\n",
      "Epoch 1: 100%|██████████| 6220/6220 [18:41<00:00,  5.55it/s, v_num=25]      \u001b[A\n",
      "Validation: 0it [00:00, ?it/s]\u001b[A\n",
      "Validation:   0%|          | 0/1822 [00:00<?, ?it/s]\u001b[A\n",
      "Validation DataLoader 0:   0%|          | 0/1822 [00:00<?, ?it/s]\u001b[A\n",
      "Validation DataLoader 0:   5%|▌         | 100/1822 [00:17<04:54,  5.85it/s]\u001b[A\n",
      "Validation DataLoader 0:  11%|█         | 200/1822 [00:34<04:42,  5.73it/s]\u001b[A\n",
      "Validation DataLoader 0:  16%|█▋        | 300/1822 [00:51<04:23,  5.77it/s]\u001b[A\n",
      "Validation DataLoader 0:  22%|██▏       | 400/1822 [01:10<04:09,  5.69it/s]\u001b[A\n",
      "Validation DataLoader 0:  27%|██▋       | 500/1822 [01:27<03:52,  5.70it/s]\u001b[A\n",
      "Validation DataLoader 0:  33%|███▎      | 600/1822 [01:45<03:34,  5.71it/s]\u001b[A\n",
      "Validation DataLoader 0:  38%|███▊      | 700/1822 [02:02<03:16,  5.70it/s]\u001b[A\n",
      "Validation DataLoader 0:  44%|████▍     | 800/1822 [02:19<02:58,  5.72it/s]\u001b[A\n",
      "Validation DataLoader 0:  49%|████▉     | 900/1822 [02:38<02:42,  5.68it/s]\u001b[A\n",
      "Validation DataLoader 0:  55%|█████▍    | 1000/1822 [02:55<02:24,  5.69it/s]\u001b[A\n",
      "Validation DataLoader 0:  60%|██████    | 1100/1822 [03:14<02:07,  5.66it/s]\u001b[A\n",
      "Validation DataLoader 0:  66%|██████▌   | 1200/1822 [03:32<01:50,  5.65it/s]\u001b[A\n",
      "Validation DataLoader 0:  71%|███████▏  | 1300/1822 [03:49<01:32,  5.66it/s]\u001b[A\n",
      "Validation DataLoader 0:  77%|███████▋  | 1400/1822 [04:07<01:14,  5.66it/s]\u001b[A\n",
      "Validation DataLoader 0:  82%|████████▏ | 1500/1822 [04:24<00:56,  5.67it/s]\u001b[A\n",
      "Validation DataLoader 0:  88%|████████▊ | 1600/1822 [04:42<00:39,  5.67it/s]\u001b[A\n",
      "Validation DataLoader 0:  93%|█████████▎| 1700/1822 [04:59<00:21,  5.67it/s]\u001b[A\n",
      "Validation DataLoader 0:  99%|█████████▉| 1800/1822 [05:17<00:03,  5.67it/s]\u001b[A\n",
      "Epoch 1: 100%|██████████| 6220/6220 [24:02<00:00,  4.31it/s, v_num=25]7it/s]\u001b[A\n",
      "Epoch 2: 100%|██████████| 6220/6220 [18:42<00:00,  5.54it/s, v_num=25]      \u001b[A\n",
      "Validation: 0it [00:00, ?it/s]\u001b[A\n",
      "Validation:   0%|          | 0/1822 [00:00<?, ?it/s]\u001b[A\n",
      "Validation DataLoader 0:   0%|          | 0/1822 [00:00<?, ?it/s]\u001b[A\n",
      "Validation DataLoader 0:   5%|▌         | 100/1822 [00:16<04:51,  5.91it/s]\u001b[A\n",
      "Validation DataLoader 0:  11%|█         | 200/1822 [00:34<04:41,  5.77it/s]\u001b[A\n",
      "Validation DataLoader 0:  16%|█▋        | 300/1822 [00:51<04:22,  5.81it/s]\u001b[A\n",
      "Validation DataLoader 0:  22%|██▏       | 400/1822 [01:09<04:06,  5.76it/s]\u001b[A\n",
      "Validation DataLoader 0:  27%|██▋       | 500/1822 [01:27<03:51,  5.71it/s]\u001b[A\n",
      "Validation DataLoader 0:  33%|███▎      | 600/1822 [01:45<03:33,  5.71it/s]\u001b[A\n",
      "Validation DataLoader 0:  38%|███▊      | 700/1822 [02:03<03:17,  5.67it/s]\u001b[A\n",
      "Validation DataLoader 0:  44%|████▍     | 800/1822 [02:20<02:59,  5.68it/s]\u001b[A\n",
      "Validation DataLoader 0:  49%|████▉     | 900/1822 [02:38<02:42,  5.67it/s]\u001b[A\n",
      "Validation DataLoader 0:  55%|█████▍    | 1000/1822 [02:56<02:24,  5.68it/s]\u001b[A\n",
      "Validation DataLoader 0:  60%|██████    | 1100/1822 [03:13<02:06,  5.69it/s]\u001b[A\n",
      "Validation DataLoader 0:  66%|██████▌   | 1200/1822 [03:31<01:49,  5.69it/s]\u001b[A\n",
      "Validation DataLoader 0:  71%|███████▏  | 1300/1822 [03:48<01:31,  5.70it/s]\u001b[A\n",
      "Validation DataLoader 0:  77%|███████▋  | 1400/1822 [04:06<01:14,  5.69it/s]\u001b[A\n",
      "Validation DataLoader 0:  82%|████████▏ | 1500/1822 [04:23<00:56,  5.69it/s]\u001b[A\n",
      "Validation DataLoader 0:  88%|████████▊ | 1600/1822 [04:41<00:39,  5.69it/s]\u001b[A\n",
      "Validation DataLoader 0:  93%|█████████▎| 1700/1822 [04:59<00:21,  5.68it/s]\u001b[A\n",
      "Validation DataLoader 0:  99%|█████████▉| 1800/1822 [05:16<00:03,  5.68it/s]\u001b[A\n",
      "Epoch 2: 100%|██████████| 6220/6220 [24:02<00:00,  4.31it/s, v_num=25]8it/s]\u001b[A\n",
      "Epoch 3: 100%|██████████| 6220/6220 [18:49<00:00,  5.50it/s, v_num=25]      \u001b[A\n",
      "Validation: 0it [00:00, ?it/s]\u001b[A\n",
      "Validation:   0%|          | 0/1822 [00:00<?, ?it/s]\u001b[A\n",
      "Validation DataLoader 0:   0%|          | 0/1822 [00:00<?, ?it/s]\u001b[A\n",
      "Validation DataLoader 0:   5%|▌         | 100/1822 [00:17<05:09,  5.57it/s]\u001b[A\n",
      "Validation DataLoader 0:  11%|█         | 200/1822 [00:35<04:44,  5.69it/s]\u001b[A\n",
      "Validation DataLoader 0:  16%|█▋        | 300/1822 [00:53<04:30,  5.62it/s]\u001b[A\n",
      "Validation DataLoader 0:  22%|██▏       | 400/1822 [01:10<04:10,  5.68it/s]\u001b[A\n",
      "Validation DataLoader 0:  27%|██▋       | 500/1822 [01:27<03:52,  5.69it/s]\u001b[A\n",
      "Validation DataLoader 0:  33%|███▎      | 600/1822 [01:45<03:34,  5.69it/s]\u001b[A\n",
      "Validation DataLoader 0:  38%|███▊      | 700/1822 [02:02<03:16,  5.71it/s]\u001b[A\n",
      "Validation DataLoader 0:  44%|████▍     | 800/1822 [02:20<02:59,  5.69it/s]\u001b[A\n",
      "Validation DataLoader 0:  49%|████▉     | 900/1822 [02:39<02:42,  5.66it/s]\u001b[A\n",
      "Validation DataLoader 0:  55%|█████▍    | 1000/1822 [02:57<02:25,  5.64it/s]\u001b[A\n",
      "Validation DataLoader 0:  60%|██████    | 1100/1822 [03:14<02:07,  5.65it/s]\u001b[A\n",
      "Validation DataLoader 0:  66%|██████▌   | 1200/1822 [03:31<01:49,  5.67it/s]\u001b[A\n",
      "Validation DataLoader 0:  71%|███████▏  | 1300/1822 [03:50<01:32,  5.65it/s]\u001b[A\n",
      "Validation DataLoader 0:  77%|███████▋  | 1400/1822 [04:07<01:14,  5.66it/s]\u001b[A\n",
      "Validation DataLoader 0:  82%|████████▏ | 1500/1822 [04:25<00:57,  5.65it/s]\u001b[A\n",
      "Validation DataLoader 0:  88%|████████▊ | 1600/1822 [04:43<00:39,  5.64it/s]\u001b[A\n",
      "Validation DataLoader 0:  93%|█████████▎| 1700/1822 [05:01<00:21,  5.64it/s]\u001b[A\n",
      "Validation DataLoader 0:  99%|█████████▉| 1800/1822 [05:18<00:03,  5.64it/s]\u001b[A\n",
      "Epoch 3: 100%|██████████| 6220/6220 [24:12<00:00,  4.28it/s, v_num=25]5it/s]\u001b[A\n",
      "Epoch 4: 100%|██████████| 6220/6220 [18:37<00:00,  5.57it/s, v_num=25]      \u001b[A\n",
      "Validation: 0it [00:00, ?it/s]\u001b[A\n",
      "Validation:   0%|          | 0/1822 [00:00<?, ?it/s]\u001b[A\n",
      "Validation DataLoader 0:   0%|          | 0/1822 [00:00<?, ?it/s]\u001b[A\n",
      "Validation DataLoader 0:   5%|▌         | 100/1822 [00:17<05:01,  5.71it/s]\u001b[A\n",
      "Validation DataLoader 0:  11%|█         | 200/1822 [00:36<04:53,  5.52it/s]\u001b[A\n",
      "Validation DataLoader 0:  16%|█▋        | 300/1822 [00:54<04:35,  5.53it/s]\u001b[A\n",
      "Validation DataLoader 0:  22%|██▏       | 400/1822 [01:11<04:14,  5.59it/s]\u001b[A\n",
      "Validation DataLoader 0:  27%|██▋       | 500/1822 [01:29<03:56,  5.58it/s]\u001b[A\n",
      "Validation DataLoader 0:  33%|███▎      | 600/1822 [01:47<03:38,  5.59it/s]\u001b[A\n",
      "Validation DataLoader 0:  38%|███▊      | 700/1822 [02:04<03:19,  5.62it/s]\u001b[A\n",
      "Validation DataLoader 0:  44%|████▍     | 800/1822 [02:22<03:02,  5.61it/s]\u001b[A\n",
      "Validation DataLoader 0:  49%|████▉     | 900/1822 [02:39<02:43,  5.63it/s]\u001b[A\n",
      "Validation DataLoader 0:  55%|█████▍    | 1000/1822 [02:58<02:26,  5.61it/s]\u001b[A\n",
      "Validation DataLoader 0:  60%|██████    | 1100/1822 [03:16<02:08,  5.60it/s]\u001b[A\n",
      "Validation DataLoader 0:  66%|██████▌   | 1200/1822 [03:34<01:50,  5.61it/s]\u001b[A\n",
      "Validation DataLoader 0:  71%|███████▏  | 1300/1822 [03:51<01:33,  5.60it/s]\u001b[A\n",
      "Validation DataLoader 0:  77%|███████▋  | 1400/1822 [04:09<01:15,  5.62it/s]\u001b[A\n",
      "Validation DataLoader 0:  82%|████████▏ | 1500/1822 [04:26<00:57,  5.62it/s]\u001b[A\n",
      "Validation DataLoader 0:  88%|████████▊ | 1600/1822 [04:44<00:39,  5.63it/s]\u001b[A\n",
      "Validation DataLoader 0:  93%|█████████▎| 1700/1822 [05:01<00:21,  5.64it/s]\u001b[A\n",
      "Validation DataLoader 0:  99%|█████████▉| 1800/1822 [05:19<00:03,  5.64it/s]\u001b[A\n",
      "Epoch 4: 100%|██████████| 6220/6220 [24:00<00:00,  4.32it/s, v_num=25]4it/s]\u001b[A\n",
      "Epoch 4: 100%|██████████| 6220/6220 [24:00<00:00,  4.32it/s, v_num=25]      \u001b[A"
     ]
    },
    {
     "name": "stderr",
     "output_type": "stream",
     "text": [
      "`Trainer.fit` stopped: `max_epochs=5` reached.\n"
     ]
    },
    {
     "name": "stdout",
     "output_type": "stream",
     "text": [
      "Epoch 4: 100%|██████████| 6220/6220 [24:00<00:00,  4.32it/s, v_num=25]\n"
     ]
    }
   ],
   "source": [
    "BATCH_SIZE = 128\n",
    "device='cuda'\n",
    "lr=1e-4\n",
    "epochs=5\n",
    "train_loader = torch.utils.data.DataLoader(train_ds, batch_size=BATCH_SIZE,shuffle=True)\n",
    "val_loader = torch.utils.data.DataLoader(validation_ds, batch_size=BATCH_SIZE,shuffle=False)\n",
    "model=OneDimConvModel(train_loader,val_loader,train_ds.seq_len)\n",
    "train_model(model,['try'],epochs,BATCH_SIZE,lr)"
   ]
  },
  {
   "cell_type": "code",
   "execution_count": 42,
   "id": "cf5514e1-2ab6-4b70-8d03-872799ba8298",
   "metadata": {},
   "outputs": [
    {
     "name": "stderr",
     "output_type": "stream",
     "text": [
      "/home/moshayof/.conda/envs/harel/lib/python3.9/site-packages/lightning/fabric/plugins/environments/slurm.py:165: PossibleUserWarning: The `srun` command is available on your system but is not used. HINT: If your intention is to run Lightning on SLURM, prepend your python command with `srun` like so: srun python /home/moshayof/.conda/envs/harel/lib/python3.9/site- ...\n",
      "  rank_zero_warn(\n",
      "GPU available: True (cuda), used: True\n",
      "TPU available: False, using: 0 TPU cores\n",
      "IPU available: False, using: 0 IPUs\n",
      "HPU available: False, using: 0 HPUs\n"
     ]
    },
    {
     "name": "stdout",
     "output_type": "stream",
     "text": [
      "https://app.neptune.ai/harelmx/deep-hw2/e/DEEP2-159\n"
     ]
    },
    {
     "name": "stderr",
     "output_type": "stream",
     "text": [
      "LOCAL_RANK: 0 - CUDA_VISIBLE_DEVICES: [0]\n",
      "\n",
      "  | Name    | Type        | Params\n",
      "----------------------------------------\n",
      "0 | conv1   | Conv1d      | 160   \n",
      "1 | bn1     | BatchNorm1d | 32    \n",
      "2 | conv2   | Conv1d      | 1.6 K \n",
      "3 | bn2     | BatchNorm1d | 64    \n",
      "4 | conv3   | Conv1d      | 6.2 K \n",
      "5 | bn3     | BatchNorm1d | 128   \n",
      "6 | fc1     | Linear      | 8.3 K \n",
      "7 | fc2     | Linear      | 516   \n",
      "8 | dropout | Dropout     | 0     \n",
      "----------------------------------------\n",
      "17.0 K    Trainable params\n",
      "0         Non-trainable params\n",
      "17.0 K    Total params\n",
      "0.068     Total estimated model params size (MB)\n"
     ]
    },
    {
     "name": "stdout",
     "output_type": "stream",
     "text": [
      "Sanity Checking: 0it [00:00, ?it/s]"
     ]
    },
    {
     "name": "stderr",
     "output_type": "stream",
     "text": [
      "/home/moshayof/.conda/envs/harel/lib/python3.9/site-packages/lightning/pytorch/trainer/connectors/data_connector.py:430: PossibleUserWarning: The dataloader, val_dataloader, does not have many workers which may be a bottleneck. Consider increasing the value of the `num_workers` argument` (try 12 which is the number of cpus on this machine) in the `DataLoader` init to improve performance.\n",
      "  rank_zero_warn(\n"
     ]
    },
    {
     "name": "stdout",
     "output_type": "stream",
     "text": [
      "                                                                           "
     ]
    },
    {
     "name": "stderr",
     "output_type": "stream",
     "text": [
      "/home/moshayof/.conda/envs/harel/lib/python3.9/site-packages/lightning/pytorch/trainer/connectors/data_connector.py:430: PossibleUserWarning: The dataloader, train_dataloader, does not have many workers which may be a bottleneck. Consider increasing the value of the `num_workers` argument` (try 12 which is the number of cpus on this machine) in the `DataLoader` init to improve performance.\n",
      "  rank_zero_warn(\n"
     ]
    },
    {
     "name": "stdout",
     "output_type": "stream",
     "text": [
      "Epoch 0: 100%|██████████| 3110/3110 [18:15<00:00,  2.84it/s, v_num=26]\n",
      "Validation: 0it [00:00, ?it/s]\u001b[A\n",
      "Validation:   0%|          | 0/911 [00:00<?, ?it/s]\u001b[A\n",
      "Validation DataLoader 0:   0%|          | 0/911 [00:00<?, ?it/s]\u001b[A\n",
      "Validation DataLoader 0:  11%|█         | 100/911 [00:34<04:41,  2.88it/s]\u001b[A\n",
      "Validation DataLoader 0:  22%|██▏       | 200/911 [01:09<04:07,  2.87it/s]\u001b[A\n",
      "Validation DataLoader 0:  33%|███▎      | 300/911 [01:45<03:33,  2.86it/s]\u001b[A\n",
      "Validation DataLoader 0:  44%|████▍     | 400/911 [02:20<02:59,  2.84it/s]\u001b[A\n",
      "Validation DataLoader 0:  55%|█████▍    | 500/911 [02:58<02:26,  2.80it/s]\u001b[A\n",
      "Validation DataLoader 0:  66%|██████▌   | 600/911 [03:33<01:50,  2.81it/s]\u001b[A\n",
      "Validation DataLoader 0:  77%|███████▋  | 700/911 [04:08<01:14,  2.82it/s]\u001b[A\n",
      "Validation DataLoader 0:  88%|████████▊ | 800/911 [04:42<00:39,  2.83it/s]\u001b[A\n",
      "Validation DataLoader 0:  99%|█████████▉| 900/911 [05:17<00:03,  2.83it/s]\u001b[A\n",
      "Epoch 0: 100%|██████████| 3110/3110 [23:37<00:00,  2.19it/s, v_num=26]t/s]\u001b[A\n",
      "Epoch 1: 100%|██████████| 3110/3110 [18:17<00:00,  2.83it/s, v_num=26]    \u001b[A\n",
      "Validation: 0it [00:00, ?it/s]\u001b[A\n",
      "Validation:   0%|          | 0/911 [00:00<?, ?it/s]\u001b[A\n",
      "Validation DataLoader 0:   0%|          | 0/911 [00:00<?, ?it/s]\u001b[A\n",
      "Validation DataLoader 0:  11%|█         | 100/911 [00:34<04:37,  2.93it/s]\u001b[A\n",
      "Validation DataLoader 0:  22%|██▏       | 200/911 [01:09<04:06,  2.88it/s]\u001b[A\n",
      "Validation DataLoader 0:  33%|███▎      | 300/911 [01:44<03:33,  2.86it/s]\u001b[A\n",
      "Validation DataLoader 0:  44%|████▍     | 400/911 [02:19<02:58,  2.87it/s]\u001b[A\n",
      "Validation DataLoader 0:  55%|█████▍    | 500/911 [02:54<02:23,  2.87it/s]\u001b[A\n",
      "Validation DataLoader 0:  66%|██████▌   | 600/911 [03:29<01:48,  2.87it/s]\u001b[A\n",
      "Validation DataLoader 0:  77%|███████▋  | 700/911 [04:04<01:13,  2.87it/s]\u001b[A\n",
      "Validation DataLoader 0:  88%|████████▊ | 800/911 [04:39<00:38,  2.86it/s]\u001b[A\n",
      "Validation DataLoader 0:  99%|█████████▉| 900/911 [05:14<00:03,  2.86it/s]\u001b[A\n",
      "Epoch 1: 100%|██████████| 3110/3110 [23:35<00:00,  2.20it/s, v_num=26]t/s]\u001b[A\n",
      "Epoch 2: 100%|██████████| 3110/3110 [18:18<00:00,  2.83it/s, v_num=26]    \u001b[A\n",
      "Validation: 0it [00:00, ?it/s]\u001b[A\n",
      "Validation:   0%|          | 0/911 [00:00<?, ?it/s]\u001b[A\n",
      "Validation DataLoader 0:   0%|          | 0/911 [00:00<?, ?it/s]\u001b[A\n",
      "Validation DataLoader 0:  11%|█         | 100/911 [00:34<04:38,  2.92it/s]\u001b[A\n",
      "Validation DataLoader 0:  22%|██▏       | 200/911 [01:07<03:59,  2.97it/s]\u001b[A\n",
      "Validation DataLoader 0:  33%|███▎      | 300/911 [01:41<03:25,  2.97it/s]\u001b[A\n",
      "Validation DataLoader 0:  44%|████▍     | 400/911 [02:15<02:53,  2.95it/s]\u001b[A\n",
      "Validation DataLoader 0:  55%|█████▍    | 500/911 [02:50<02:20,  2.93it/s]\u001b[A\n",
      "Validation DataLoader 0:  66%|██████▌   | 600/911 [03:24<01:46,  2.93it/s]\u001b[A\n",
      "Validation DataLoader 0:  77%|███████▋  | 700/911 [04:00<01:12,  2.91it/s]\u001b[A\n",
      "Validation DataLoader 0:  88%|████████▊ | 800/911 [04:35<00:38,  2.91it/s]\u001b[A\n",
      "Validation DataLoader 0:  99%|█████████▉| 900/911 [05:09<00:03,  2.90it/s]\u001b[A\n",
      "Epoch 2: 100%|██████████| 3110/3110 [23:32<00:00,  2.20it/s, v_num=26]t/s]\u001b[A\n",
      "Epoch 3: 100%|██████████| 3110/3110 [18:13<00:00,  2.84it/s, v_num=26]    \u001b[A\n",
      "Validation: 0it [00:00, ?it/s]\u001b[A\n",
      "Validation:   0%|          | 0/911 [00:00<?, ?it/s]\u001b[A\n",
      "Validation DataLoader 0:   0%|          | 0/911 [00:00<?, ?it/s]\u001b[A\n",
      "Validation DataLoader 0:  11%|█         | 100/911 [00:34<04:40,  2.89it/s]\u001b[A\n",
      "Validation DataLoader 0:  22%|██▏       | 200/911 [01:09<04:06,  2.89it/s]\u001b[A\n",
      "Validation DataLoader 0:  33%|███▎      | 300/911 [01:43<03:31,  2.89it/s]\u001b[A\n",
      "Validation DataLoader 0:  44%|████▍     | 400/911 [02:18<02:56,  2.89it/s]\u001b[A\n",
      "Validation DataLoader 0:  55%|█████▍    | 500/911 [02:53<02:22,  2.88it/s]\u001b[A\n",
      "Validation DataLoader 0:  66%|██████▌   | 600/911 [03:29<01:48,  2.87it/s]\u001b[A\n",
      "Validation DataLoader 0:  77%|███████▋  | 700/911 [04:04<01:13,  2.86it/s]\u001b[A\n",
      "Validation DataLoader 0:  88%|████████▊ | 800/911 [04:39<00:38,  2.86it/s]\u001b[A\n",
      "Validation DataLoader 0:  99%|█████████▉| 900/911 [05:13<00:03,  2.87it/s]\u001b[A\n",
      "Epoch 3: 100%|██████████| 3110/3110 [23:31<00:00,  2.20it/s, v_num=26]t/s]\u001b[A\n",
      "Epoch 4: 100%|██████████| 3110/3110 [18:14<00:00,  2.84it/s, v_num=26]    \u001b[A\n",
      "Validation: 0it [00:00, ?it/s]\u001b[A\n",
      "Validation:   0%|          | 0/911 [00:00<?, ?it/s]\u001b[A\n",
      "Validation DataLoader 0:   0%|          | 0/911 [00:00<?, ?it/s]\u001b[A\n",
      "Validation DataLoader 0:  11%|█         | 100/911 [00:34<04:35,  2.94it/s]\u001b[A\n",
      "Validation DataLoader 0:  22%|██▏       | 200/911 [01:08<04:04,  2.91it/s]\u001b[A\n",
      "Validation DataLoader 0:  33%|███▎      | 300/911 [01:43<03:30,  2.91it/s]\u001b[A\n",
      "Validation DataLoader 0:  44%|████▍     | 400/911 [02:18<02:57,  2.88it/s]\u001b[A\n",
      "Validation DataLoader 0:  55%|█████▍    | 500/911 [02:54<02:23,  2.86it/s]\u001b[A\n",
      "Validation DataLoader 0:  66%|██████▌   | 600/911 [03:30<01:49,  2.85it/s]\u001b[A\n",
      "Validation DataLoader 0:  77%|███████▋  | 700/911 [04:04<01:13,  2.86it/s]\u001b[A\n",
      "Validation DataLoader 0:  88%|████████▊ | 800/911 [04:38<00:38,  2.87it/s]\u001b[A\n",
      "Validation DataLoader 0:  99%|█████████▉| 900/911 [05:11<00:03,  2.89it/s]\u001b[A\n",
      "Epoch 4: 100%|██████████| 3110/3110 [23:29<00:00,  2.21it/s, v_num=26]t/s]\u001b[A\n",
      "Epoch 4: 100%|██████████| 3110/3110 [23:29<00:00,  2.21it/s, v_num=26]    \u001b[A"
     ]
    },
    {
     "name": "stderr",
     "output_type": "stream",
     "text": [
      "`Trainer.fit` stopped: `max_epochs=5` reached.\n"
     ]
    },
    {
     "name": "stdout",
     "output_type": "stream",
     "text": [
      "Epoch 4: 100%|██████████| 3110/3110 [23:29<00:00,  2.21it/s, v_num=26]\n"
     ]
    }
   ],
   "source": [
    "BATCH_SIZE = 256\n",
    "device='cuda'\n",
    "lr=1e-4\n",
    "epochs=5\n",
    "train_loader = torch.utils.data.DataLoader(train_ds, batch_size=BATCH_SIZE,shuffle=True)\n",
    "val_loader = torch.utils.data.DataLoader(validation_ds, batch_size=BATCH_SIZE,shuffle=False)\n",
    "model=OneDimConvModel(train_loader,val_loader,train_ds.seq_len)\n",
    "train_model(model,['try'],epochs,BATCH_SIZE,lr)"
   ]
  },
  {
   "cell_type": "code",
   "execution_count": null,
   "id": "f4c7d3a7-622e-491d-98e2-789c9fdef1b0",
   "metadata": {},
   "outputs": [
    {
     "name": "stderr",
     "output_type": "stream",
     "text": [
      "/home/moshayof/.conda/envs/harel/lib/python3.9/site-packages/lightning/fabric/plugins/environments/slurm.py:165: PossibleUserWarning: The `srun` command is available on your system but is not used. HINT: If your intention is to run Lightning on SLURM, prepend your python command with `srun` like so: srun python /home/moshayof/.conda/envs/harel/lib/python3.9/site- ...\n",
      "  rank_zero_warn(\n",
      "GPU available: True (cuda), used: True\n",
      "TPU available: False, using: 0 TPU cores\n",
      "IPU available: False, using: 0 IPUs\n",
      "HPU available: False, using: 0 HPUs\n"
     ]
    },
    {
     "name": "stdout",
     "output_type": "stream",
     "text": [
      "https://app.neptune.ai/harelmx/deep-hw2/e/DEEP2-160\n"
     ]
    },
    {
     "name": "stderr",
     "output_type": "stream",
     "text": [
      "LOCAL_RANK: 0 - CUDA_VISIBLE_DEVICES: [0]\n",
      "\n",
      "  | Name    | Type        | Params\n",
      "----------------------------------------\n",
      "0 | conv1   | Conv1d      | 160   \n",
      "1 | bn1     | BatchNorm1d | 32    \n",
      "2 | conv2   | Conv1d      | 1.6 K \n",
      "3 | bn2     | BatchNorm1d | 64    \n",
      "4 | conv3   | Conv1d      | 6.2 K \n",
      "5 | bn3     | BatchNorm1d | 128   \n",
      "6 | fc1     | Linear      | 8.3 K \n",
      "7 | fc2     | Linear      | 516   \n",
      "8 | dropout | Dropout     | 0     \n",
      "----------------------------------------\n",
      "17.0 K    Trainable params\n",
      "0         Non-trainable params\n",
      "17.0 K    Total params\n",
      "0.068     Total estimated model params size (MB)\n"
     ]
    },
    {
     "name": "stdout",
     "output_type": "stream",
     "text": [
      "Sanity Checking DataLoader 0:   0%|          | 0/2 [00:00<?, ?it/s]"
     ]
    },
    {
     "name": "stderr",
     "output_type": "stream",
     "text": [
      "/home/moshayof/.conda/envs/harel/lib/python3.9/site-packages/lightning/pytorch/trainer/connectors/data_connector.py:430: PossibleUserWarning: The dataloader, val_dataloader, does not have many workers which may be a bottleneck. Consider increasing the value of the `num_workers` argument` (try 12 which is the number of cpus on this machine) in the `DataLoader` init to improve performance.\n",
      "  rank_zero_warn(\n"
     ]
    },
    {
     "name": "stdout",
     "output_type": "stream",
     "text": [
      "                                                                           "
     ]
    },
    {
     "name": "stderr",
     "output_type": "stream",
     "text": [
      "/home/moshayof/.conda/envs/harel/lib/python3.9/site-packages/lightning/pytorch/trainer/connectors/data_connector.py:430: PossibleUserWarning: The dataloader, train_dataloader, does not have many workers which may be a bottleneck. Consider increasing the value of the `num_workers` argument` (try 12 which is the number of cpus on this machine) in the `DataLoader` init to improve performance.\n",
      "  rank_zero_warn(\n"
     ]
    },
    {
     "name": "stdout",
     "output_type": "stream",
     "text": [
      "Epoch 0: 100%|██████████| 6220/6220 [18:31<00:00,  5.60it/s, v_num=27]\n",
      "Validation: 0it [00:00, ?it/s]\u001b[A\n",
      "Validation:   0%|          | 0/1822 [00:00<?, ?it/s]\u001b[A\n",
      "Validation DataLoader 0:   0%|          | 0/1822 [00:00<?, ?it/s]\u001b[A\n",
      "Validation DataLoader 0:   5%|▌         | 100/1822 [00:17<04:54,  5.85it/s]\u001b[A\n",
      "Validation DataLoader 0:  11%|█         | 200/1822 [00:34<04:41,  5.76it/s]\u001b[A\n",
      "Validation DataLoader 0:  16%|█▋        | 300/1822 [00:51<04:21,  5.81it/s]\u001b[A\n",
      "Validation DataLoader 0:  22%|██▏       | 400/1822 [01:09<04:06,  5.76it/s]\u001b[A\n",
      "Validation DataLoader 0:  27%|██▋       | 500/1822 [01:26<03:49,  5.76it/s]\u001b[A\n",
      "Validation DataLoader 0:  33%|███▎      | 600/1822 [01:44<03:33,  5.73it/s]\u001b[A\n",
      "Validation DataLoader 0:  38%|███▊      | 700/1822 [02:02<03:16,  5.70it/s]\u001b[A\n",
      "Validation DataLoader 0:  44%|████▍     | 800/1822 [02:20<02:59,  5.71it/s]\u001b[A\n",
      "Validation DataLoader 0:  49%|████▉     | 900/1822 [02:37<02:41,  5.71it/s]\u001b[A\n",
      "Validation DataLoader 0:  55%|█████▍    | 1000/1822 [02:54<02:23,  5.73it/s]\u001b[A\n",
      "Validation DataLoader 0:  60%|██████    | 1100/1822 [03:12<02:06,  5.72it/s]\u001b[A\n",
      "Validation DataLoader 0:  66%|██████▌   | 1200/1822 [03:29<01:48,  5.72it/s]\u001b[A\n",
      "Validation DataLoader 0:  71%|███████▏  | 1300/1822 [03:47<01:31,  5.73it/s]\u001b[A\n",
      "Validation DataLoader 0:  77%|███████▋  | 1400/1822 [04:04<01:13,  5.72it/s]\u001b[A\n",
      "Validation DataLoader 0:  82%|████████▏ | 1500/1822 [04:21<00:56,  5.73it/s]\u001b[A\n",
      "Validation DataLoader 0:  88%|████████▊ | 1600/1822 [04:39<00:38,  5.72it/s]\u001b[A\n",
      "Validation DataLoader 0:  93%|█████████▎| 1700/1822 [04:56<00:21,  5.73it/s]\u001b[A\n",
      "Validation DataLoader 0:  99%|█████████▉| 1800/1822 [05:15<00:03,  5.71it/s]\u001b[A\n",
      "Epoch 0: 100%|██████████| 6220/6220 [23:50<00:00,  4.35it/s, v_num=27]1it/s]\u001b[A\n",
      "Epoch 1:   5%|▍         | 300/6220 [00:55<18:17,  5.39it/s, v_num=27]       \u001b[A"
     ]
    }
   ],
   "source": [
    "BATCH_SIZE = 128\n",
    "device='cuda'\n",
    "lr=1e-3\n",
    "epochs=5\n",
    "train_loader = torch.utils.data.DataLoader(train_ds, batch_size=BATCH_SIZE,shuffle=True)\n",
    "val_loader = torch.utils.data.DataLoader(validation_ds, batch_size=BATCH_SIZE,shuffle=False)\n",
    "model=OneDimConvModel(train_loader,val_loader,train_ds.seq_len)\n",
    "train_model(model,['try'],epochs,BATCH_SIZE,lr)"
   ]
  },
  {
   "cell_type": "markdown",
   "id": "772d1f28-cc73-4da7-91ab-ab445f870555",
   "metadata": {
    "tags": []
   },
   "source": [
    "# performance analysis"
   ]
  },
  {
   "cell_type": "code",
   "execution_count": 71,
   "id": "edbd3670-ac8b-48b8-842f-94136fe77555",
   "metadata": {},
   "outputs": [],
   "source": [
    "BATCH_SIZE = 128\n",
    "train_loader = torch.utils.data.DataLoader(train_ds, batch_size=BATCH_SIZE,shuffle=True)\n",
    "val_loader = torch.utils.data.DataLoader(validation_ds, batch_size=BATCH_SIZE,shuffle=False)\n",
    "\n",
    "cnn= OneDimConvModel.load_from_checkpoint('./cnn.ckpt',train_loader=train_loader,val_loader=val_loader,seq_len=train_ds.seq_len).cuda()"
   ]
  },
  {
   "cell_type": "code",
   "execution_count": 95,
   "id": "6eaf12db-c65b-4219-b7fb-9f88b84b43bc",
   "metadata": {},
   "outputs": [],
   "source": [
    "def precision(model,loader):\n",
    "    precision = Precision(task=\"multiclass\", num_classes=4).cuda()\n",
    "    precision_lst=[]\n",
    "    for batch_idx, (x, y) in enumerate(loader):\n",
    "        y_hat = model(x)\n",
    "        pred = torch.argmax(y_hat, dim=1)\n",
    "        actual = torch.argmax(y, dim=1)\n",
    "        precision_lst.append(precision(pred,actual))\n",
    "    return sum(precision_lst)/len(precision_lst) "
   ]
  },
  {
   "cell_type": "code",
   "execution_count": 97,
   "id": "5e4a5111-db3e-475e-86ba-935110a1d804",
   "metadata": {},
   "outputs": [
    {
     "data": {
      "text/plain": [
       "'precision is 0.22928796708583832'"
      ]
     },
     "execution_count": 97,
     "metadata": {},
     "output_type": "execute_result"
    }
   ],
   "source": [
    "f'precision is {precision(cnn,val_loader)}'"
   ]
  },
  {
   "cell_type": "code",
   "execution_count": 124,
   "id": "a888013b-188d-4fae-86e9-2b53900270b9",
   "metadata": {},
   "outputs": [],
   "source": [
    "from collections import defaultdict\n",
    "def plot_count(model,loader):\n",
    "    counter =  defaultdict(int)\n",
    "    for batch_idx, (x, y) in enumerate(loader):\n",
    "        y_hat = model(x)\n",
    "        pred = torch.argmax(y_hat, dim=1)\n",
    "        actual = torch.argmax(y, dim=1)\n",
    "        for i,c in enumerate(actual):\n",
    "            if c==pred[i]:\n",
    "                counter[f'{c.item()} currect']+=1\n",
    "            else:\n",
    "                counter[f'{c.item()} incurrect']+=1\n",
    "\n",
    "    data = {\"Category\": list(counter.keys()), \"Values\": list(counter.values())}\n",
    "    df = pd.DataFrame(data)\n",
    "    df = df.sort_values(by=\"Category\")\n",
    "    plt.figure(figsize=(12, 6))\n",
    "    sns.barplot(x=\"Category\", y=\"Values\", data=df)\n",
    "    plt.show()"
   ]
  },
  {
   "cell_type": "code",
   "execution_count": 125,
   "id": "e2fe7e5c-301f-4068-9919-9a8e0a59b927",
   "metadata": {},
   "outputs": [
    {
     "data": {
      "image/png": "[encoded data removed]",
      "text/plain": [
       "<Figure size 1200x600 with 1 Axes>"
      ]
     },
     "metadata": {},
     "output_type": "display_data"
    }
   ],
   "source": [
    "plot_count(cnn,val_loader)"
   ]
  },
  {
   "cell_type": "markdown",
   "id": "07edd883-501c-4062-8a34-f21d70c6f732",
   "metadata": {
    "tags": []
   },
   "source": [
    "# Fine tuning"
   ]
  },
  {
   "cell_type": "code",
   "execution_count": 65,
   "id": "4d0a1ec8-0ffa-4d04-9e2d-9a15f359a9b5",
   "metadata": {},
   "outputs": [],
   "source": [
    "class fogDataset(Dataset):\n",
    "    def __init__(self, df, ds_type=None):\n",
    "        self.ds_type = ds_type\n",
    "        self.df = df      \n",
    "        self.features = ['AccV', 'AccML', 'AccAP']\n",
    "        if ds_type == \"self\":\n",
    "            self.labels = ['AccVAboveAverage', 'AccMLAboveAverage', 'AccAPAboveAverage']\n",
    "        else:\n",
    "            self.labels = ['StartHesitation', 'Turn' , 'Walking']\n",
    "    \n",
    "        \n",
    "    def __len__(self):\n",
    "        return len(self.df)\n",
    "    \n",
    "    def __getitem__(self, idx):\n",
    "        record = self.df.iloc[idx]\n",
    "        y = torch.Tensor(record[self.labels])\n",
    "        x = torch.Tensor(record[self.features])        \n",
    "     \n",
    "        return x.view(3,1),y\n",
    "    \n",
    "    def get_head(self):\n",
    "        return self.df.head()\n",
    "        "
   ]
  },
  {
   "cell_type": "code",
   "execution_count": 67,
   "id": "d8809dc1-8a83-40fc-884c-428deef1af47",
   "metadata": {},
   "outputs": [
    {
     "name": "stderr",
     "output_type": "stream",
     "text": [
      "/tmp/ipykernel_9395/2034464694.py:5: SettingWithCopyWarning: \n",
      "A value is trying to be set on a copy of a slice from a DataFrame.\n",
      "Try using .loc[row_indexer,col_indexer] = value instead\n",
      "\n",
      "See the caveats in the documentation: https://pandas.pydata.org/pandas-docs/stable/user_guide/indexing.html#returning-a-view-versus-a-copy\n",
      "  df['AccVAboveAverage'] = df['AccV'].apply(lambda x: 1 if x > AccVthreshold else 0)\n",
      "/tmp/ipykernel_9395/2034464694.py:6: SettingWithCopyWarning: \n",
      "A value is trying to be set on a copy of a slice from a DataFrame.\n",
      "Try using .loc[row_indexer,col_indexer] = value instead\n",
      "\n",
      "See the caveats in the documentation: https://pandas.pydata.org/pandas-docs/stable/user_guide/indexing.html#returning-a-view-versus-a-copy\n",
      "  df['AccMLAboveAverage'] = df['AccML'].apply(lambda x: 1 if x > AccMLthreshold else 0)\n",
      "/tmp/ipykernel_9395/2034464694.py:7: SettingWithCopyWarning: \n",
      "A value is trying to be set on a copy of a slice from a DataFrame.\n",
      "Try using .loc[row_indexer,col_indexer] = value instead\n",
      "\n",
      "See the caveats in the documentation: https://pandas.pydata.org/pandas-docs/stable/user_guide/indexing.html#returning-a-view-versus-a-copy\n",
      "  df['AccAPAboveAverage'] = df['AccAP'].apply(lambda x: 1 if x > AccAPthreshold else 0)\n",
      "/tmp/ipykernel_9395/2034464694.py:5: SettingWithCopyWarning: \n",
      "A value is trying to be set on a copy of a slice from a DataFrame.\n",
      "Try using .loc[row_indexer,col_indexer] = value instead\n",
      "\n",
      "See the caveats in the documentation: https://pandas.pydata.org/pandas-docs/stable/user_guide/indexing.html#returning-a-view-versus-a-copy\n",
      "  df['AccVAboveAverage'] = df['AccV'].apply(lambda x: 1 if x > AccVthreshold else 0)\n",
      "/tmp/ipykernel_9395/2034464694.py:6: SettingWithCopyWarning: \n",
      "A value is trying to be set on a copy of a slice from a DataFrame.\n",
      "Try using .loc[row_indexer,col_indexer] = value instead\n",
      "\n",
      "See the caveats in the documentation: https://pandas.pydata.org/pandas-docs/stable/user_guide/indexing.html#returning-a-view-versus-a-copy\n",
      "  df['AccMLAboveAverage'] = df['AccML'].apply(lambda x: 1 if x > AccMLthreshold else 0)\n",
      "/tmp/ipykernel_9395/2034464694.py:7: SettingWithCopyWarning: \n",
      "A value is trying to be set on a copy of a slice from a DataFrame.\n",
      "Try using .loc[row_indexer,col_indexer] = value instead\n",
      "\n",
      "See the caveats in the documentation: https://pandas.pydata.org/pandas-docs/stable/user_guide/indexing.html#returning-a-view-versus-a-copy\n",
      "  df['AccAPAboveAverage'] = df['AccAP'].apply(lambda x: 1 if x > AccAPthreshold else 0)\n"
     ]
    }
   ],
   "source": [
    "def self_supervised_target(df):\n",
    "    AccVthreshold = df['AccV'].mean() \n",
    "    AccMLthreshold = df['AccML'].mean() \n",
    "    AccAPthreshold = df['AccAP'].mean() \n",
    "    df['AccVAboveAverage'] = df['AccV'].apply(lambda x: 1 if x > AccVthreshold else 0)\n",
    "    df['AccMLAboveAverage'] = df['AccML'].apply(lambda x: 1 if x > AccMLthreshold else 0)\n",
    "    df['AccAPAboveAverage'] = df['AccAP'].apply(lambda x: 1 if x > AccAPthreshold else 0)\n",
    "    return df\n",
    "\n",
    "\n",
    "ss_train_df = self_supervised_target(train_df).drop(['StartHesitation', 'Turn', 'Walking', 'Id','Subject','Valid','Task'], axis=1)\n",
    "ss_val_df = self_supervised_target(val_df).drop(['StartHesitation', 'Turn', 'Walking', 'Id','Subject','Valid','Task'], axis=1)\n",
    "\n",
    "ss_train_ds = fogDataset(ss_train_df, \"self\")\n",
    "ss_validation_ds = fogDataset(ss_val_df, \"self\")"
   ]
  },
  {
   "cell_type": "code",
   "execution_count": 75,
   "id": "339f8aaa-a981-4f9b-a005-799d094288e3",
   "metadata": {},
   "outputs": [
    {
     "name": "stderr",
     "output_type": "stream",
     "text": [
      "/home/moshayof/.conda/envs/harel/lib/python3.9/site-packages/lightning/fabric/plugins/environments/slurm.py:165: PossibleUserWarning: The `srun` command is available on your system but is not used. HINT: If your intention is to run Lightning on SLURM, prepend your python command with `srun` like so: srun python /home/moshayof/.conda/envs/harel/lib/python3.9/site- ...\n",
      "  rank_zero_warn(\n",
      "GPU available: True (cuda), used: True\n",
      "TPU available: False, using: 0 TPU cores\n",
      "IPU available: False, using: 0 IPUs\n",
      "HPU available: False, using: 0 HPUs\n"
     ]
    },
    {
     "name": "stdout",
     "output_type": "stream",
     "text": [
      "https://app.neptune.ai/harelmx/deep-hw2/e/DEEP2-170\n"
     ]
    },
    {
     "name": "stderr",
     "output_type": "stream",
     "text": [
      "LOCAL_RANK: 0 - CUDA_VISIBLE_DEVICES: [0]\n",
      "\n",
      "  | Name    | Type        | Params\n",
      "----------------------------------------\n",
      "0 | conv1   | Conv1d      | 160   \n",
      "1 | bn1     | BatchNorm1d | 32    \n",
      "2 | conv2   | Conv1d      | 1.6 K \n",
      "3 | bn2     | BatchNorm1d | 64    \n",
      "4 | conv3   | Conv1d      | 6.2 K \n",
      "5 | bn3     | BatchNorm1d | 128   \n",
      "6 | fc1     | Linear      | 8.3 K \n",
      "7 | fc2     | Linear      | 387   \n",
      "8 | dropout | Dropout     | 0     \n",
      "----------------------------------------\n",
      "16.9 K    Trainable params\n",
      "0         Non-trainable params\n",
      "16.9 K    Total params\n",
      "0.067     Total estimated model params size (MB)\n"
     ]
    },
    {
     "name": "stdout",
     "output_type": "stream",
     "text": [
      "Sanity Checking: 0it [00:00, ?it/s]"
     ]
    },
    {
     "name": "stderr",
     "output_type": "stream",
     "text": [
      "/home/moshayof/.conda/envs/harel/lib/python3.9/site-packages/lightning/pytorch/trainer/connectors/data_connector.py:430: PossibleUserWarning: The dataloader, val_dataloader, does not have many workers which may be a bottleneck. Consider increasing the value of the `num_workers` argument` (try 12 which is the number of cpus on this machine) in the `DataLoader` init to improve performance.\n",
      "  rank_zero_warn(\n"
     ]
    },
    {
     "name": "stdout",
     "output_type": "stream",
     "text": [
      "                                                                           "
     ]
    },
    {
     "name": "stderr",
     "output_type": "stream",
     "text": [
      "/home/moshayof/.conda/envs/harel/lib/python3.9/site-packages/lightning/pytorch/trainer/connectors/data_connector.py:430: PossibleUserWarning: The dataloader, train_dataloader, does not have many workers which may be a bottleneck. Consider increasing the value of the `num_workers` argument` (try 12 which is the number of cpus on this machine) in the `DataLoader` init to improve performance.\n",
      "  rank_zero_warn(\n"
     ]
    },
    {
     "name": "stdout",
     "output_type": "stream",
     "text": [
      "Epoch 0: 100%|██████████| 3110/3110 [13:10<00:00,  3.94it/s, v_num=45]\n",
      "Validation: 0it [00:00, ?it/s]\u001b[A\n",
      "Validation:   0%|          | 0/911 [00:00<?, ?it/s]\u001b[A\n",
      "Validation DataLoader 0:   0%|          | 0/911 [00:00<?, ?it/s]\u001b[A\n",
      "Validation DataLoader 0:  11%|█         | 100/911 [00:24<03:19,  4.07it/s]\u001b[A\n",
      "Validation DataLoader 0:  22%|██▏       | 200/911 [00:49<02:57,  4.02it/s]\u001b[A\n",
      "Validation DataLoader 0:  33%|███▎      | 300/911 [01:15<02:33,  3.98it/s]\u001b[A\n",
      "Validation DataLoader 0:  44%|████▍     | 400/911 [01:40<02:08,  3.99it/s]\u001b[A\n",
      "Validation DataLoader 0:  55%|█████▍    | 500/911 [02:05<01:42,  3.99it/s]\u001b[A\n",
      "Validation DataLoader 0:  66%|██████▌   | 600/911 [02:29<01:17,  4.00it/s]\u001b[A\n",
      "Validation DataLoader 0:  77%|███████▋  | 700/911 [02:54<00:52,  4.01it/s]\u001b[A\n",
      "Validation DataLoader 0:  88%|████████▊ | 800/911 [03:19<00:27,  4.01it/s]\u001b[A\n",
      "Validation DataLoader 0:  99%|█████████▉| 900/911 [03:44<00:02,  4.01it/s]\u001b[A\n",
      "Epoch 0: 100%|██████████| 3110/3110 [16:57<00:00,  3.06it/s, v_num=45]t/s]\u001b[A\n",
      "Epoch 1:  45%|████▌     | 1400/3110 [05:54<07:13,  3.94it/s, v_num=45]    \u001b[A"
     ]
    },
    {
     "name": "stderr",
     "output_type": "stream",
     "text": [
      "/home/moshayof/.conda/envs/harel/lib/python3.9/site-packages/lightning/pytorch/trainer/call.py:54: UserWarning: Detected KeyboardInterrupt, attempting graceful shutdown...\n",
      "  rank_zero_warn(\"Detected KeyboardInterrupt, attempting graceful shutdown...\")\n"
     ]
    }
   ],
   "source": [
    "import copy\n",
    "cnn_mean = copy.deepcopy(cnn) \n",
    "cnn_mean.fc2=nn.Linear(128, 3)\n",
    "cnn_mean.train_ds=ss_train_ds \n",
    "BATCH_SIZE =256\n",
    "cnn_mean.train_loader= torch.utils.data.DataLoader(ss_train_ds, batch_size=BATCH_SIZE,shuffle=True)\n",
    "cnn_mean.val_loader= torch.utils.data.DataLoader(ss_validation_ds, batch_size=BATCH_SIZE,shuffle=False)\n",
    "train_model(cnn_mean,['fine-tuning'],3,BATCH_SIZE,1e-3)"
   ]
  },
  {
   "cell_type": "code",
   "execution_count": 98,
   "id": "a3977987-b1de-4053-bdf8-190e5147e063",
   "metadata": {},
   "outputs": [
    {
     "data": {
      "text/plain": [
       "'precision is 0.860185444355011'"
      ]
     },
     "execution_count": 98,
     "metadata": {},
     "output_type": "execute_result"
    }
   ],
   "source": [
    "cnn_mean.fc2=cnn.fc2\n",
    "f'precision is {precision(cnn_mean,val_loader)}'"
   ]
  },
  {
   "cell_type": "code",
   "execution_count": 127,
   "id": "7118756c-ac35-4602-b135-dfdf7b5f3c87",
   "metadata": {},
   "outputs": [
    {
     "data": {
      "image/png": "[encoded data removed]",
      "text/plain": [
       "<Figure size 1200x600 with 1 Axes>"
      ]
     },
     "metadata": {},
     "output_type": "display_data"
    }
   ],
   "source": [
    "plot_count(cnn_mean,val_loader)"
   ]
  }
 ],
 "metadata": {
  "kernelspec": {
   "display_name": "harel",
   "language": "python",
   "name": "harel"
  },
  "language_info": {
   "codemirror_mode": {
    "name": "ipython",
    "version": 3
   },
   "file_extension": ".py",
   "mimetype": "text/x-python",
   "name": "python",
   "nbconvert_exporter": "python",
   "pygments_lexer": "ipython3",
   "version": "3.9.16"
  }
 },
 "nbformat": 4,
 "nbformat_minor": 5
}
